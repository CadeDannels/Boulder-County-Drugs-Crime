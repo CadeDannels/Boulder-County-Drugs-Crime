{
 "cells": [
  {
   "cell_type": "markdown",
   "metadata": {},
   "source": [
    "# INFO 3401 – Module Assignment 4\n",
    "\n",
    "[Brian C. Keegan, Ph.D.](http://brianckeegan.com/)  \n",
    "[Assistant Professor, Department of Information Science](https://www.colorado.edu/cmci/people/information-science/brian-c-keegan)  \n",
    "University of Colorado Boulder  \n",
    "\n",
    "Copyright and distributed under an [MIT License](https://opensource.org/licenses/MIT).\n",
    "\n",
    "## Learning Objectives\n",
    "This is the sole component for Module Assignment 4: there are no sub-assignments. This assignment is due Wednesday, October 28 by 11:59pm on Canvas. Please submit as an HTML file: File > Download as > HTML (.html).\n"
   ]
  },
  {
   "cell_type": "code",
   "execution_count": 1,
   "metadata": {},
   "outputs": [],
   "source": [
    "# Our usual libraries for working with data\n",
    "import pandas as pd\n",
    "import numpy as np\n",
    "\n",
    "pd.options.display.max_columns = 100\n",
    "# pd.options.display.max_rows = 100\n",
    "\n",
    "# Our usual libraries for visualizing data\n",
    "%matplotlib inline\n",
    "import matplotlib.pyplot as plt\n",
    "import matplotlib.colors as colors\n",
    "import seaborn as sb\n",
    "\n",
    "# Spatial libaries\n",
    "import geopandas as gpd\n",
    "import geoplot, contextily"
   ]
  },
  {
   "cell_type": "markdown",
   "metadata": {},
   "source": [
    "## Read in data\n",
    "\n",
    "### Sales data\n",
    "Read in the \"colorado_monthly_cannabis_sales.csv\" file as `sales_df`."
   ]
  },
  {
   "cell_type": "code",
   "execution_count": 2,
   "metadata": {},
   "outputs": [],
   "source": [
    "sales_df = pd.read_csv(\"colorado_monthly_cannabis_sales.csv\")"
   ]
  },
  {
   "cell_type": "markdown",
   "metadata": {},
   "source": [
    "Print out the number of rows and show the tail of `sales_df`."
   ]
  },
  {
   "cell_type": "code",
   "execution_count": 3,
   "metadata": {},
   "outputs": [
    {
     "name": "stdout",
     "output_type": "stream",
     "text": [
      "<class 'pandas.core.frame.DataFrame'>\n",
      "RangeIndex: 5398 entries, 0 to 5397\n",
      "Data columns (total 4 columns):\n",
      " #   Column  Non-Null Count  Dtype  \n",
      "---  ------  --------------  -----  \n",
      " 0   Time    5398 non-null   object \n",
      " 1   County  5398 non-null   object \n",
      " 2   Sales   3444 non-null   float64\n",
      " 3   Type    5398 non-null   object \n",
      "dtypes: float64(1), object(3)\n",
      "memory usage: 168.8+ KB\n"
     ]
    }
   ],
   "source": [
    "sales_df.info()"
   ]
  },
  {
   "cell_type": "code",
   "execution_count": 4,
   "metadata": {},
   "outputs": [
    {
     "data": {
      "text/html": [
       "<div>\n",
       "<style scoped>\n",
       "    .dataframe tbody tr th:only-of-type {\n",
       "        vertical-align: middle;\n",
       "    }\n",
       "\n",
       "    .dataframe tbody tr th {\n",
       "        vertical-align: top;\n",
       "    }\n",
       "\n",
       "    .dataframe thead th {\n",
       "        text-align: right;\n",
       "    }\n",
       "</style>\n",
       "<table border=\"1\" class=\"dataframe\">\n",
       "  <thead>\n",
       "    <tr style=\"text-align: right;\">\n",
       "      <th></th>\n",
       "      <th>Time</th>\n",
       "      <th>County</th>\n",
       "      <th>Sales</th>\n",
       "      <th>Type</th>\n",
       "    </tr>\n",
       "  </thead>\n",
       "  <tbody>\n",
       "    <tr>\n",
       "      <th>0</th>\n",
       "      <td>2014-01</td>\n",
       "      <td>Adams</td>\n",
       "      <td>683098.0</td>\n",
       "      <td>Medical</td>\n",
       "    </tr>\n",
       "    <tr>\n",
       "      <th>1</th>\n",
       "      <td>2014-01</td>\n",
       "      <td>Pueblo</td>\n",
       "      <td>419894.0</td>\n",
       "      <td>Medical</td>\n",
       "    </tr>\n",
       "    <tr>\n",
       "      <th>2</th>\n",
       "      <td>2014-01</td>\n",
       "      <td>Routt</td>\n",
       "      <td>239509.0</td>\n",
       "      <td>Medical</td>\n",
       "    </tr>\n",
       "    <tr>\n",
       "      <th>3</th>\n",
       "      <td>2014-01</td>\n",
       "      <td>San Miguel</td>\n",
       "      <td>164384.0</td>\n",
       "      <td>Medical</td>\n",
       "    </tr>\n",
       "    <tr>\n",
       "      <th>4</th>\n",
       "      <td>2014-01</td>\n",
       "      <td>Sedgwick</td>\n",
       "      <td>NaN</td>\n",
       "      <td>Medical</td>\n",
       "    </tr>\n",
       "  </tbody>\n",
       "</table>\n",
       "</div>"
      ],
      "text/plain": [
       "      Time      County     Sales     Type\n",
       "0  2014-01       Adams  683098.0  Medical\n",
       "1  2014-01      Pueblo  419894.0  Medical\n",
       "2  2014-01       Routt  239509.0  Medical\n",
       "3  2014-01  San Miguel  164384.0  Medical\n",
       "4  2014-01    Sedgwick       NaN  Medical"
      ]
     },
     "execution_count": 4,
     "metadata": {},
     "output_type": "execute_result"
    }
   ],
   "source": [
    "sales_df.head()"
   ]
  },
  {
   "cell_type": "code",
   "execution_count": 5,
   "metadata": {},
   "outputs": [
    {
     "data": {
      "text/html": [
       "<div>\n",
       "<style scoped>\n",
       "    .dataframe tbody tr th:only-of-type {\n",
       "        vertical-align: middle;\n",
       "    }\n",
       "\n",
       "    .dataframe tbody tr th {\n",
       "        vertical-align: top;\n",
       "    }\n",
       "\n",
       "    .dataframe thead th {\n",
       "        text-align: right;\n",
       "    }\n",
       "</style>\n",
       "<table border=\"1\" class=\"dataframe\">\n",
       "  <thead>\n",
       "    <tr style=\"text-align: right;\">\n",
       "      <th></th>\n",
       "      <th>Time</th>\n",
       "      <th>County</th>\n",
       "      <th>Sales</th>\n",
       "      <th>Type</th>\n",
       "    </tr>\n",
       "  </thead>\n",
       "  <tbody>\n",
       "    <tr>\n",
       "      <th>5393</th>\n",
       "      <td>2020-08</td>\n",
       "      <td>Huerfano</td>\n",
       "      <td>506634.0</td>\n",
       "      <td>Recreational</td>\n",
       "    </tr>\n",
       "    <tr>\n",
       "      <th>5394</th>\n",
       "      <td>2020-08</td>\n",
       "      <td>Jefferson</td>\n",
       "      <td>5805803.0</td>\n",
       "      <td>Recreational</td>\n",
       "    </tr>\n",
       "    <tr>\n",
       "      <th>5395</th>\n",
       "      <td>2020-08</td>\n",
       "      <td>Lake</td>\n",
       "      <td>449116.0</td>\n",
       "      <td>Recreational</td>\n",
       "    </tr>\n",
       "    <tr>\n",
       "      <th>5396</th>\n",
       "      <td>2020-08</td>\n",
       "      <td>Garfield</td>\n",
       "      <td>2538125.0</td>\n",
       "      <td>Recreational</td>\n",
       "    </tr>\n",
       "    <tr>\n",
       "      <th>5397</th>\n",
       "      <td>2020-08</td>\n",
       "      <td>Bent</td>\n",
       "      <td>NaN</td>\n",
       "      <td>Recreational</td>\n",
       "    </tr>\n",
       "  </tbody>\n",
       "</table>\n",
       "</div>"
      ],
      "text/plain": [
       "         Time     County      Sales          Type\n",
       "5393  2020-08   Huerfano   506634.0  Recreational\n",
       "5394  2020-08  Jefferson  5805803.0  Recreational\n",
       "5395  2020-08       Lake   449116.0  Recreational\n",
       "5396  2020-08   Garfield  2538125.0  Recreational\n",
       "5397  2020-08       Bent        NaN  Recreational"
      ]
     },
     "execution_count": 5,
     "metadata": {},
     "output_type": "execute_result"
    }
   ],
   "source": [
    "sales_df.tail()"
   ]
  },
  {
   "cell_type": "markdown",
   "metadata": {},
   "source": [
    "### Crime data\n",
    "\n",
    "Read in the \"co_county_crime.csv\" file as `crime_df`."
   ]
  },
  {
   "cell_type": "code",
   "execution_count": 6,
   "metadata": {},
   "outputs": [],
   "source": [
    "crime_df = pd.read_csv(\"co_county_crime.csv\")"
   ]
  },
  {
   "cell_type": "markdown",
   "metadata": {},
   "source": [
    "Print out the number of rows and show the tail of `crime_df`."
   ]
  },
  {
   "cell_type": "code",
   "execution_count": 7,
   "metadata": {},
   "outputs": [
    {
     "name": "stdout",
     "output_type": "stream",
     "text": [
      "<class 'pandas.core.frame.DataFrame'>\n",
      "RangeIndex: 10668 entries, 0 to 10667\n",
      "Data columns (total 4 columns):\n",
      " #   Column   Non-Null Count  Dtype  \n",
      "---  ------   --------------  -----  \n",
      " 0   Time     10668 non-null  object \n",
      " 1   County   10668 non-null  object \n",
      " 2   Type     10668 non-null  object \n",
      " 3   Arrests  10668 non-null  float64\n",
      "dtypes: float64(1), object(3)\n",
      "memory usage: 333.5+ KB\n"
     ]
    }
   ],
   "source": [
    "crime_df.info()"
   ]
  },
  {
   "cell_type": "code",
   "execution_count": 8,
   "metadata": {},
   "outputs": [
    {
     "data": {
      "text/html": [
       "<div>\n",
       "<style scoped>\n",
       "    .dataframe tbody tr th:only-of-type {\n",
       "        vertical-align: middle;\n",
       "    }\n",
       "\n",
       "    .dataframe tbody tr th {\n",
       "        vertical-align: top;\n",
       "    }\n",
       "\n",
       "    .dataframe thead th {\n",
       "        text-align: right;\n",
       "    }\n",
       "</style>\n",
       "<table border=\"1\" class=\"dataframe\">\n",
       "  <thead>\n",
       "    <tr style=\"text-align: right;\">\n",
       "      <th></th>\n",
       "      <th>Time</th>\n",
       "      <th>County</th>\n",
       "      <th>Type</th>\n",
       "      <th>Arrests</th>\n",
       "    </tr>\n",
       "  </thead>\n",
       "  <tbody>\n",
       "    <tr>\n",
       "      <th>0</th>\n",
       "      <td>2013-01</td>\n",
       "      <td>Adams</td>\n",
       "      <td>DUI</td>\n",
       "      <td>301.0</td>\n",
       "    </tr>\n",
       "    <tr>\n",
       "      <th>1</th>\n",
       "      <td>2013-01</td>\n",
       "      <td>Adams</td>\n",
       "      <td>Narcotics</td>\n",
       "      <td>232.0</td>\n",
       "    </tr>\n",
       "    <tr>\n",
       "      <th>2</th>\n",
       "      <td>2013-01</td>\n",
       "      <td>Alamosa</td>\n",
       "      <td>DUI</td>\n",
       "      <td>0.0</td>\n",
       "    </tr>\n",
       "    <tr>\n",
       "      <th>3</th>\n",
       "      <td>2013-01</td>\n",
       "      <td>Alamosa</td>\n",
       "      <td>Narcotics</td>\n",
       "      <td>1.0</td>\n",
       "    </tr>\n",
       "    <tr>\n",
       "      <th>4</th>\n",
       "      <td>2013-01</td>\n",
       "      <td>Arapahoe</td>\n",
       "      <td>DUI</td>\n",
       "      <td>84.0</td>\n",
       "    </tr>\n",
       "  </tbody>\n",
       "</table>\n",
       "</div>"
      ],
      "text/plain": [
       "      Time    County       Type  Arrests\n",
       "0  2013-01     Adams        DUI    301.0\n",
       "1  2013-01     Adams  Narcotics    232.0\n",
       "2  2013-01   Alamosa        DUI      0.0\n",
       "3  2013-01   Alamosa  Narcotics      1.0\n",
       "4  2013-01  Arapahoe        DUI     84.0"
      ]
     },
     "execution_count": 8,
     "metadata": {},
     "output_type": "execute_result"
    }
   ],
   "source": [
    "crime_df.head()"
   ]
  },
  {
   "cell_type": "code",
   "execution_count": 9,
   "metadata": {},
   "outputs": [
    {
     "data": {
      "text/html": [
       "<div>\n",
       "<style scoped>\n",
       "    .dataframe tbody tr th:only-of-type {\n",
       "        vertical-align: middle;\n",
       "    }\n",
       "\n",
       "    .dataframe tbody tr th {\n",
       "        vertical-align: top;\n",
       "    }\n",
       "\n",
       "    .dataframe thead th {\n",
       "        text-align: right;\n",
       "    }\n",
       "</style>\n",
       "<table border=\"1\" class=\"dataframe\">\n",
       "  <thead>\n",
       "    <tr style=\"text-align: right;\">\n",
       "      <th></th>\n",
       "      <th>Time</th>\n",
       "      <th>County</th>\n",
       "      <th>Type</th>\n",
       "      <th>Arrests</th>\n",
       "    </tr>\n",
       "  </thead>\n",
       "  <tbody>\n",
       "    <tr>\n",
       "      <th>10663</th>\n",
       "      <td>2019-12</td>\n",
       "      <td>Washington</td>\n",
       "      <td>Narcotics</td>\n",
       "      <td>0.0</td>\n",
       "    </tr>\n",
       "    <tr>\n",
       "      <th>10664</th>\n",
       "      <td>2019-12</td>\n",
       "      <td>Weld</td>\n",
       "      <td>DUI</td>\n",
       "      <td>65.0</td>\n",
       "    </tr>\n",
       "    <tr>\n",
       "      <th>10665</th>\n",
       "      <td>2019-12</td>\n",
       "      <td>Weld</td>\n",
       "      <td>Narcotics</td>\n",
       "      <td>71.0</td>\n",
       "    </tr>\n",
       "    <tr>\n",
       "      <th>10666</th>\n",
       "      <td>2019-12</td>\n",
       "      <td>Yuma</td>\n",
       "      <td>DUI</td>\n",
       "      <td>0.0</td>\n",
       "    </tr>\n",
       "    <tr>\n",
       "      <th>10667</th>\n",
       "      <td>2019-12</td>\n",
       "      <td>Yuma</td>\n",
       "      <td>Narcotics</td>\n",
       "      <td>0.0</td>\n",
       "    </tr>\n",
       "  </tbody>\n",
       "</table>\n",
       "</div>"
      ],
      "text/plain": [
       "          Time      County       Type  Arrests\n",
       "10663  2019-12  Washington  Narcotics      0.0\n",
       "10664  2019-12        Weld        DUI     65.0\n",
       "10665  2019-12        Weld  Narcotics     71.0\n",
       "10666  2019-12        Yuma        DUI      0.0\n",
       "10667  2019-12        Yuma  Narcotics      0.0"
      ]
     },
     "execution_count": 9,
     "metadata": {},
     "output_type": "execute_result"
    }
   ],
   "source": [
    "crime_df.tail()"
   ]
  },
  {
   "cell_type": "markdown",
   "metadata": {},
   "source": [
    "### County shapefile\n",
    "\n",
    "Read in the \"co_counties\" shapefiles as `co_counties_gdf`."
   ]
  },
  {
   "cell_type": "code",
   "execution_count": 10,
   "metadata": {},
   "outputs": [],
   "source": [
    "co_counties_gdf = gpd.read_file(\"co_counties/co_counties.shp\")"
   ]
  },
  {
   "cell_type": "markdown",
   "metadata": {},
   "source": [
    "Show the CRS."
   ]
  },
  {
   "cell_type": "code",
   "execution_count": 11,
   "metadata": {},
   "outputs": [
    {
     "data": {
      "text/plain": [
       "{'init': 'epsg:4326'}"
      ]
     },
     "execution_count": 11,
     "metadata": {},
     "output_type": "execute_result"
    }
   ],
   "source": [
    "co_counties_gdf.crs"
   ]
  },
  {
   "cell_type": "markdown",
   "metadata": {},
   "source": [
    "Print out the number of rows and show the tail of `co_counties_gdf`."
   ]
  },
  {
   "cell_type": "code",
   "execution_count": 12,
   "metadata": {},
   "outputs": [
    {
     "data": {
      "text/plain": [
       "64"
      ]
     },
     "execution_count": 12,
     "metadata": {},
     "output_type": "execute_result"
    }
   ],
   "source": [
    "len(co_counties_gdf)"
   ]
  },
  {
   "cell_type": "code",
   "execution_count": 13,
   "metadata": {},
   "outputs": [
    {
     "data": {
      "text/html": [
       "<div>\n",
       "<style scoped>\n",
       "    .dataframe tbody tr th:only-of-type {\n",
       "        vertical-align: middle;\n",
       "    }\n",
       "\n",
       "    .dataframe tbody tr th {\n",
       "        vertical-align: top;\n",
       "    }\n",
       "\n",
       "    .dataframe thead th {\n",
       "        text-align: right;\n",
       "    }\n",
       "</style>\n",
       "<table border=\"1\" class=\"dataframe\">\n",
       "  <thead>\n",
       "    <tr style=\"text-align: right;\">\n",
       "      <th></th>\n",
       "      <th>co_fips</th>\n",
       "      <th>county</th>\n",
       "      <th>househo_20</th>\n",
       "      <th>pop_2010</th>\n",
       "      <th>shape_st_1</th>\n",
       "      <th>shape_st_2</th>\n",
       "      <th>shape_star</th>\n",
       "      <th>shape_stle</th>\n",
       "      <th>geometry</th>\n",
       "    </tr>\n",
       "  </thead>\n",
       "  <tbody>\n",
       "    <tr>\n",
       "      <th>59</th>\n",
       "      <td>101.0</td>\n",
       "      <td>PUEBLO</td>\n",
       "      <td>63148.0</td>\n",
       "      <td>159063.0</td>\n",
       "      <td>6.206416e+09</td>\n",
       "      <td>334853.177401</td>\n",
       "      <td>0.0</td>\n",
       "      <td>0.0</td>\n",
       "      <td>POLYGON ((-104.05410 38.52218, -104.05436 38.5...</td>\n",
       "    </tr>\n",
       "    <tr>\n",
       "      <th>60</th>\n",
       "      <td>103.0</td>\n",
       "      <td>RIO BLANCO</td>\n",
       "      <td>2626.0</td>\n",
       "      <td>6666.0</td>\n",
       "      <td>8.356260e+09</td>\n",
       "      <td>472176.056913</td>\n",
       "      <td>0.0</td>\n",
       "      <td>0.0</td>\n",
       "      <td>POLYGON ((-107.80151 40.22250, -107.76365 40.2...</td>\n",
       "    </tr>\n",
       "    <tr>\n",
       "      <th>61</th>\n",
       "      <td>121.0</td>\n",
       "      <td>WASHINGTON</td>\n",
       "      <td>1980.0</td>\n",
       "      <td>4814.0</td>\n",
       "      <td>6.535833e+09</td>\n",
       "      <td>351598.108603</td>\n",
       "      <td>0.0</td>\n",
       "      <td>0.0</td>\n",
       "      <td>POLYGON ((-102.77997 40.43842, -102.78005 40.4...</td>\n",
       "    </tr>\n",
       "    <tr>\n",
       "      <th>62</th>\n",
       "      <td>123.0</td>\n",
       "      <td>WELD</td>\n",
       "      <td>89849.0</td>\n",
       "      <td>252825.0</td>\n",
       "      <td>1.039621e+10</td>\n",
       "      <td>486242.951314</td>\n",
       "      <td>0.0</td>\n",
       "      <td>0.0</td>\n",
       "      <td>MULTIPOLYGON (((-103.57413 40.99985, -103.5736...</td>\n",
       "    </tr>\n",
       "    <tr>\n",
       "      <th>63</th>\n",
       "      <td>125.0</td>\n",
       "      <td>YUMA</td>\n",
       "      <td>3947.0</td>\n",
       "      <td>10043.0</td>\n",
       "      <td>6.137023e+09</td>\n",
       "      <td>321423.270613</td>\n",
       "      <td>0.0</td>\n",
       "      <td>0.0</td>\n",
       "      <td>POLYGON ((-102.05155 40.43985, -102.05136 40.4...</td>\n",
       "    </tr>\n",
       "  </tbody>\n",
       "</table>\n",
       "</div>"
      ],
      "text/plain": [
       "    co_fips      county  househo_20  pop_2010    shape_st_1     shape_st_2  \\\n",
       "59    101.0      PUEBLO     63148.0  159063.0  6.206416e+09  334853.177401   \n",
       "60    103.0  RIO BLANCO      2626.0    6666.0  8.356260e+09  472176.056913   \n",
       "61    121.0  WASHINGTON      1980.0    4814.0  6.535833e+09  351598.108603   \n",
       "62    123.0        WELD     89849.0  252825.0  1.039621e+10  486242.951314   \n",
       "63    125.0        YUMA      3947.0   10043.0  6.137023e+09  321423.270613   \n",
       "\n",
       "    shape_star  shape_stle                                           geometry  \n",
       "59         0.0         0.0  POLYGON ((-104.05410 38.52218, -104.05436 38.5...  \n",
       "60         0.0         0.0  POLYGON ((-107.80151 40.22250, -107.76365 40.2...  \n",
       "61         0.0         0.0  POLYGON ((-102.77997 40.43842, -102.78005 40.4...  \n",
       "62         0.0         0.0  MULTIPOLYGON (((-103.57413 40.99985, -103.5736...  \n",
       "63         0.0         0.0  POLYGON ((-102.05155 40.43985, -102.05136 40.4...  "
      ]
     },
     "execution_count": 13,
     "metadata": {},
     "output_type": "execute_result"
    }
   ],
   "source": [
    "co_counties_gdf.tail()"
   ]
  },
  {
   "cell_type": "markdown",
   "metadata": {},
   "source": [
    "## Feature engineering\n",
    "\n",
    "### Sales data\n",
    "In `sales_df`, cast the values in the \"Month\" column from strings to `pd.Timestamp` or `pd.Period` objects using an appropriate pandas function."
   ]
  },
  {
   "cell_type": "code",
   "execution_count": 14,
   "metadata": {},
   "outputs": [],
   "source": [
    "sales_df[\"Time\"] = pd.to_datetime(sales_df[\"Time\"])"
   ]
  },
  {
   "cell_type": "code",
   "execution_count": 15,
   "metadata": {},
   "outputs": [
    {
     "data": {
      "text/plain": [
       "0      2014-01-01\n",
       "1      2014-01-01\n",
       "2      2014-01-01\n",
       "3      2014-01-01\n",
       "4      2014-01-01\n",
       "          ...    \n",
       "5393   2020-08-01\n",
       "5394   2020-08-01\n",
       "5395   2020-08-01\n",
       "5396   2020-08-01\n",
       "5397   2020-08-01\n",
       "Name: Time, Length: 5398, dtype: datetime64[ns]"
      ]
     },
     "execution_count": 15,
     "metadata": {},
     "output_type": "execute_result"
    }
   ],
   "source": [
    "sales_df[\"Time\"]"
   ]
  },
  {
   "cell_type": "code",
   "execution_count": 16,
   "metadata": {},
   "outputs": [
    {
     "data": {
      "text/html": [
       "<div>\n",
       "<style scoped>\n",
       "    .dataframe tbody tr th:only-of-type {\n",
       "        vertical-align: middle;\n",
       "    }\n",
       "\n",
       "    .dataframe tbody tr th {\n",
       "        vertical-align: top;\n",
       "    }\n",
       "\n",
       "    .dataframe thead th {\n",
       "        text-align: right;\n",
       "    }\n",
       "</style>\n",
       "<table border=\"1\" class=\"dataframe\">\n",
       "  <thead>\n",
       "    <tr style=\"text-align: right;\">\n",
       "      <th></th>\n",
       "      <th>Month</th>\n",
       "      <th>County</th>\n",
       "      <th>Sales</th>\n",
       "      <th>Type</th>\n",
       "    </tr>\n",
       "  </thead>\n",
       "  <tbody>\n",
       "    <tr>\n",
       "      <th>0</th>\n",
       "      <td>2014-01-01</td>\n",
       "      <td>Adams</td>\n",
       "      <td>683098.0</td>\n",
       "      <td>Medical</td>\n",
       "    </tr>\n",
       "    <tr>\n",
       "      <th>1</th>\n",
       "      <td>2014-01-01</td>\n",
       "      <td>Pueblo</td>\n",
       "      <td>419894.0</td>\n",
       "      <td>Medical</td>\n",
       "    </tr>\n",
       "    <tr>\n",
       "      <th>2</th>\n",
       "      <td>2014-01-01</td>\n",
       "      <td>Routt</td>\n",
       "      <td>239509.0</td>\n",
       "      <td>Medical</td>\n",
       "    </tr>\n",
       "    <tr>\n",
       "      <th>3</th>\n",
       "      <td>2014-01-01</td>\n",
       "      <td>San Miguel</td>\n",
       "      <td>164384.0</td>\n",
       "      <td>Medical</td>\n",
       "    </tr>\n",
       "    <tr>\n",
       "      <th>4</th>\n",
       "      <td>2014-01-01</td>\n",
       "      <td>Sedgwick</td>\n",
       "      <td>NaN</td>\n",
       "      <td>Medical</td>\n",
       "    </tr>\n",
       "    <tr>\n",
       "      <th>...</th>\n",
       "      <td>...</td>\n",
       "      <td>...</td>\n",
       "      <td>...</td>\n",
       "      <td>...</td>\n",
       "    </tr>\n",
       "    <tr>\n",
       "      <th>5393</th>\n",
       "      <td>2020-08-01</td>\n",
       "      <td>Huerfano</td>\n",
       "      <td>506634.0</td>\n",
       "      <td>Recreational</td>\n",
       "    </tr>\n",
       "    <tr>\n",
       "      <th>5394</th>\n",
       "      <td>2020-08-01</td>\n",
       "      <td>Jefferson</td>\n",
       "      <td>5805803.0</td>\n",
       "      <td>Recreational</td>\n",
       "    </tr>\n",
       "    <tr>\n",
       "      <th>5395</th>\n",
       "      <td>2020-08-01</td>\n",
       "      <td>Lake</td>\n",
       "      <td>449116.0</td>\n",
       "      <td>Recreational</td>\n",
       "    </tr>\n",
       "    <tr>\n",
       "      <th>5396</th>\n",
       "      <td>2020-08-01</td>\n",
       "      <td>Garfield</td>\n",
       "      <td>2538125.0</td>\n",
       "      <td>Recreational</td>\n",
       "    </tr>\n",
       "    <tr>\n",
       "      <th>5397</th>\n",
       "      <td>2020-08-01</td>\n",
       "      <td>Bent</td>\n",
       "      <td>NaN</td>\n",
       "      <td>Recreational</td>\n",
       "    </tr>\n",
       "  </tbody>\n",
       "</table>\n",
       "<p>5398 rows × 4 columns</p>\n",
       "</div>"
      ],
      "text/plain": [
       "          Month      County      Sales          Type\n",
       "0    2014-01-01       Adams   683098.0       Medical\n",
       "1    2014-01-01      Pueblo   419894.0       Medical\n",
       "2    2014-01-01       Routt   239509.0       Medical\n",
       "3    2014-01-01  San Miguel   164384.0       Medical\n",
       "4    2014-01-01    Sedgwick        NaN       Medical\n",
       "...         ...         ...        ...           ...\n",
       "5393 2020-08-01    Huerfano   506634.0  Recreational\n",
       "5394 2020-08-01   Jefferson  5805803.0  Recreational\n",
       "5395 2020-08-01        Lake   449116.0  Recreational\n",
       "5396 2020-08-01    Garfield  2538125.0  Recreational\n",
       "5397 2020-08-01        Bent        NaN  Recreational\n",
       "\n",
       "[5398 rows x 4 columns]"
      ]
     },
     "execution_count": 16,
     "metadata": {},
     "output_type": "execute_result"
    }
   ],
   "source": [
    "sales_df.rename(columns={\"Time\":\"Month\"},inplace=True)\n",
    "sales_df"
   ]
  },
  {
   "cell_type": "markdown",
   "metadata": {},
   "source": [
    "NaNs are present in the \"Sales\" column if there are 3 or fewer dispensaries in a county in a given month to protect their confidentiality: \n",
    "\n",
    "> \"Per §39-21-113(4), C.R.S., data derived from taxpayer returns is aggregated in order to protect the confidentiality of individual taxpayers. It is the Department’s practice to release aggregated data only when there are at least three taxpayers in a given category and none of them represents more than 80% of the total.\n",
    "\n",
    "This is a good case for keeping rather than dropping NaNs: because a county doesn't report sales doesn't mean that it's not a legal county with dispensaries and sales."
   ]
  },
  {
   "cell_type": "markdown",
   "metadata": {},
   "source": [
    "### Crime data\n",
    "\n",
    "In `crime_df`, cast the values in the \"Month\" column from strings to `pd.Timestamp` or `pd.Period` objects using an appropriate pandas function."
   ]
  },
  {
   "cell_type": "code",
   "execution_count": 17,
   "metadata": {},
   "outputs": [
    {
     "data": {
      "text/plain": [
       "0       2013-01-01\n",
       "1       2013-01-01\n",
       "2       2013-01-01\n",
       "3       2013-01-01\n",
       "4       2013-01-01\n",
       "           ...    \n",
       "10663   2019-12-01\n",
       "10664   2019-12-01\n",
       "10665   2019-12-01\n",
       "10666   2019-12-01\n",
       "10667   2019-12-01\n",
       "Name: Month, Length: 10668, dtype: datetime64[ns]"
      ]
     },
     "execution_count": 17,
     "metadata": {},
     "output_type": "execute_result"
    }
   ],
   "source": [
    "crime_df.rename(columns={\"Time\":\"Month\"},inplace=True)\n",
    "crime_df[\"Month\"] = pd.to_datetime(crime_df[\"Month\"])\n",
    "crime_df[\"Month\"]"
   ]
  },
  {
   "cell_type": "markdown",
   "metadata": {},
   "source": [
    "### Counties data\n",
    "\n",
    "Convert the \"county\" column in `co_counties_gdf` to title-case ([hint](https://pandas.pydata.org/pandas-docs/stable/reference/api/pandas.Series.str.title.html)) and show the head after the change."
   ]
  },
  {
   "cell_type": "code",
   "execution_count": 18,
   "metadata": {},
   "outputs": [
    {
     "data": {
      "text/html": [
       "<div>\n",
       "<style scoped>\n",
       "    .dataframe tbody tr th:only-of-type {\n",
       "        vertical-align: middle;\n",
       "    }\n",
       "\n",
       "    .dataframe tbody tr th {\n",
       "        vertical-align: top;\n",
       "    }\n",
       "\n",
       "    .dataframe thead th {\n",
       "        text-align: right;\n",
       "    }\n",
       "</style>\n",
       "<table border=\"1\" class=\"dataframe\">\n",
       "  <thead>\n",
       "    <tr style=\"text-align: right;\">\n",
       "      <th></th>\n",
       "      <th>co_fips</th>\n",
       "      <th>county</th>\n",
       "      <th>househo_20</th>\n",
       "      <th>pop_2010</th>\n",
       "      <th>shape_st_1</th>\n",
       "      <th>shape_st_2</th>\n",
       "      <th>shape_star</th>\n",
       "      <th>shape_stle</th>\n",
       "      <th>geometry</th>\n",
       "    </tr>\n",
       "  </thead>\n",
       "  <tbody>\n",
       "    <tr>\n",
       "      <th>0</th>\n",
       "      <td>1.0</td>\n",
       "      <td>Adams</td>\n",
       "      <td>154502.0</td>\n",
       "      <td>441603.0</td>\n",
       "      <td>3.064413e+09</td>\n",
       "      <td>392729.110497</td>\n",
       "      <td>0.0</td>\n",
       "      <td>0.0</td>\n",
       "      <td>POLYGON ((-103.70574 39.99991, -103.70569 39.9...</td>\n",
       "    </tr>\n",
       "    <tr>\n",
       "      <th>1</th>\n",
       "      <td>3.0</td>\n",
       "      <td>Alamosa</td>\n",
       "      <td>6008.0</td>\n",
       "      <td>15445.0</td>\n",
       "      <td>1.872295e+09</td>\n",
       "      <td>177555.351470</td>\n",
       "      <td>0.0</td>\n",
       "      <td>0.0</td>\n",
       "      <td>POLYGON ((-105.59917 37.75216, -105.51619 37.7...</td>\n",
       "    </tr>\n",
       "    <tr>\n",
       "      <th>2</th>\n",
       "      <td>5.0</td>\n",
       "      <td>Arapahoe</td>\n",
       "      <td>225124.0</td>\n",
       "      <td>572003.0</td>\n",
       "      <td>2.084863e+09</td>\n",
       "      <td>335003.471310</td>\n",
       "      <td>0.0</td>\n",
       "      <td>0.0</td>\n",
       "      <td>MULTIPOLYGON (((-103.70653 39.73986, -103.7066...</td>\n",
       "    </tr>\n",
       "    <tr>\n",
       "      <th>3</th>\n",
       "      <td>7.0</td>\n",
       "      <td>Archuleta</td>\n",
       "      <td>5257.0</td>\n",
       "      <td>12084.0</td>\n",
       "      <td>3.504795e+09</td>\n",
       "      <td>263558.683443</td>\n",
       "      <td>0.0</td>\n",
       "      <td>0.0</td>\n",
       "      <td>POLYGON ((-107.12854 37.42287, -107.12881 37.3...</td>\n",
       "    </tr>\n",
       "    <tr>\n",
       "      <th>4</th>\n",
       "      <td>11.0</td>\n",
       "      <td>Bent</td>\n",
       "      <td>1835.0</td>\n",
       "      <td>6499.0</td>\n",
       "      <td>3.990976e+09</td>\n",
       "      <td>254662.200852</td>\n",
       "      <td>0.0</td>\n",
       "      <td>0.0</td>\n",
       "      <td>POLYGON ((-102.74208 38.26675, -102.74211 38.2...</td>\n",
       "    </tr>\n",
       "  </tbody>\n",
       "</table>\n",
       "</div>"
      ],
      "text/plain": [
       "   co_fips     county  househo_20  pop_2010    shape_st_1     shape_st_2  \\\n",
       "0      1.0      Adams    154502.0  441603.0  3.064413e+09  392729.110497   \n",
       "1      3.0    Alamosa      6008.0   15445.0  1.872295e+09  177555.351470   \n",
       "2      5.0   Arapahoe    225124.0  572003.0  2.084863e+09  335003.471310   \n",
       "3      7.0  Archuleta      5257.0   12084.0  3.504795e+09  263558.683443   \n",
       "4     11.0       Bent      1835.0    6499.0  3.990976e+09  254662.200852   \n",
       "\n",
       "   shape_star  shape_stle                                           geometry  \n",
       "0         0.0         0.0  POLYGON ((-103.70574 39.99991, -103.70569 39.9...  \n",
       "1         0.0         0.0  POLYGON ((-105.59917 37.75216, -105.51619 37.7...  \n",
       "2         0.0         0.0  MULTIPOLYGON (((-103.70653 39.73986, -103.7066...  \n",
       "3         0.0         0.0  POLYGON ((-107.12854 37.42287, -107.12881 37.3...  \n",
       "4         0.0         0.0  POLYGON ((-102.74208 38.26675, -102.74211 38.2...  "
      ]
     },
     "execution_count": 18,
     "metadata": {},
     "output_type": "execute_result"
    }
   ],
   "source": [
    "co_counties_gdf[\"county\"] = co_counties_gdf[\"county\"].str.title()\n",
    "co_counties_gdf.head()"
   ]
  },
  {
   "cell_type": "markdown",
   "metadata": {},
   "source": [
    "## Exploratory analysis\n",
    "\n",
    "### Sales data\n",
    "How many times does each county appear in `sales_df`?"
   ]
  },
  {
   "cell_type": "code",
   "execution_count": 19,
   "metadata": {},
   "outputs": [
    {
     "data": {
      "text/html": [
       "<div>\n",
       "<style scoped>\n",
       "    .dataframe tbody tr th:only-of-type {\n",
       "        vertical-align: middle;\n",
       "    }\n",
       "\n",
       "    .dataframe tbody tr th {\n",
       "        vertical-align: top;\n",
       "    }\n",
       "\n",
       "    .dataframe thead th {\n",
       "        text-align: right;\n",
       "    }\n",
       "</style>\n",
       "<table border=\"1\" class=\"dataframe\">\n",
       "  <thead>\n",
       "    <tr style=\"text-align: right;\">\n",
       "      <th></th>\n",
       "      <th>Month</th>\n",
       "    </tr>\n",
       "    <tr>\n",
       "      <th>County</th>\n",
       "      <th></th>\n",
       "    </tr>\n",
       "  </thead>\n",
       "  <tbody>\n",
       "    <tr>\n",
       "      <th>Adams</th>\n",
       "      <td>160</td>\n",
       "    </tr>\n",
       "    <tr>\n",
       "      <th>Alamosa</th>\n",
       "      <td>80</td>\n",
       "    </tr>\n",
       "    <tr>\n",
       "      <th>Arapahoe</th>\n",
       "      <td>151</td>\n",
       "    </tr>\n",
       "    <tr>\n",
       "      <th>Archuleta</th>\n",
       "      <td>129</td>\n",
       "    </tr>\n",
       "    <tr>\n",
       "      <th>Bent</th>\n",
       "      <td>11</td>\n",
       "    </tr>\n",
       "  </tbody>\n",
       "</table>\n",
       "</div>"
      ],
      "text/plain": [
       "           Month\n",
       "County          \n",
       "Adams        160\n",
       "Alamosa       80\n",
       "Arapahoe     151\n",
       "Archuleta    129\n",
       "Bent          11"
      ]
     },
     "execution_count": 19,
     "metadata": {},
     "output_type": "execute_result"
    }
   ],
   "source": [
    "sales_gb = sales_df.groupby(\"County\").agg({\"Month\":\"count\"})\n",
    "sales_gb.head()"
   ]
  },
  {
   "cell_type": "markdown",
   "metadata": {},
   "source": [
    "Make a histogram of the \"Sales\" values in `sales_df`. This might be highly-skewed, so experiment with using log-scaled bins and x-axis: try passing `np.logspace(3,8,25)` to the \"bins\" parameter and set the xscale to \"log\" ([hint](https://matplotlib.org/3.2.1/api/_as_gen/matplotlib.axes.Axes.set_xscale.html)). Make sure to label your axes. Real extra credit if you can format the x-axis to have more interpretable ticks too ([hint](https://matplotlib.org/3.3.1/gallery/ticks_and_spines/tick-formatters.html))."
   ]
  },
  {
   "cell_type": "code",
   "execution_count": 20,
   "metadata": {},
   "outputs": [
    {
     "data": {
      "text/plain": [
       "Text(0, 0.5, 'Count')"
      ]
     },
     "execution_count": 20,
     "metadata": {},
     "output_type": "execute_result"
    },
    {
     "data": {
      "image/png": "[encoded data removed]",
      "text/plain": [
       "<Figure size 720x576 with 1 Axes>"
      ]
     },
     "metadata": {
      "needs_background": "light"
     },
     "output_type": "display_data"
    }
   ],
   "source": [
    "f,ax = plt.subplots(figsize=(10,8))\n",
    "\n",
    "sales_df[\"Sales\"].hist(bins=np.logspace(3,8,25),ax=ax).set_xscale(\"log\")\n",
    "plt.xlabel(\"Sales\",fontsize=16)\n",
    "plt.ylabel(\"Count\",fontsize=16)"
   ]
  },
  {
   "cell_type": "markdown",
   "metadata": {},
   "source": [
    "Interpret the histogram. What is the most common monthly sales value?"
   ]
  },
  {
   "cell_type": "markdown",
   "metadata": {},
   "source": [
    "It looks like the most common monthly sales value is around $500,000. The highest monthly sales value is around $50,000,000 with the lowest a little above $10,000."
   ]
  },
  {
   "cell_type": "markdown",
   "metadata": {},
   "source": [
    "Reshape the data with \"Time\" in the index and \"Medical\" and \"Recreational\" as columns and the total number of sales as values. Save the resulting reshape as `monthly_sales_pivot`. You can do this with a pivot table or a groupby-aggregation. Show the tail of this reshaped DataFrame."
   ]
  },
  {
   "cell_type": "code",
   "execution_count": 21,
   "metadata": {},
   "outputs": [
    {
     "data": {
      "text/html": [
       "<div>\n",
       "<style scoped>\n",
       "    .dataframe tbody tr th:only-of-type {\n",
       "        vertical-align: middle;\n",
       "    }\n",
       "\n",
       "    .dataframe tbody tr th {\n",
       "        vertical-align: top;\n",
       "    }\n",
       "\n",
       "    .dataframe thead th {\n",
       "        text-align: right;\n",
       "    }\n",
       "</style>\n",
       "<table border=\"1\" class=\"dataframe\">\n",
       "  <thead>\n",
       "    <tr style=\"text-align: right;\">\n",
       "      <th>Type</th>\n",
       "      <th>Medical</th>\n",
       "      <th>Recreational</th>\n",
       "    </tr>\n",
       "    <tr>\n",
       "      <th>Month</th>\n",
       "      <th></th>\n",
       "      <th></th>\n",
       "    </tr>\n",
       "  </thead>\n",
       "  <tbody>\n",
       "    <tr>\n",
       "      <th>2020-04-01</th>\n",
       "      <td>34996438.0</td>\n",
       "      <td>108687035.0</td>\n",
       "    </tr>\n",
       "    <tr>\n",
       "      <th>2020-05-01</th>\n",
       "      <td>41458783.0</td>\n",
       "      <td>144280917.0</td>\n",
       "    </tr>\n",
       "    <tr>\n",
       "      <th>2020-06-01</th>\n",
       "      <td>39628326.0</td>\n",
       "      <td>152754961.0</td>\n",
       "    </tr>\n",
       "    <tr>\n",
       "      <th>2020-07-01</th>\n",
       "      <td>41985544.0</td>\n",
       "      <td>176676875.0</td>\n",
       "    </tr>\n",
       "    <tr>\n",
       "      <th>2020-08-01</th>\n",
       "      <td>40904451.0</td>\n",
       "      <td>169071513.0</td>\n",
       "    </tr>\n",
       "  </tbody>\n",
       "</table>\n",
       "</div>"
      ],
      "text/plain": [
       "Type           Medical  Recreational\n",
       "Month                               \n",
       "2020-04-01  34996438.0   108687035.0\n",
       "2020-05-01  41458783.0   144280917.0\n",
       "2020-06-01  39628326.0   152754961.0\n",
       "2020-07-01  41985544.0   176676875.0\n",
       "2020-08-01  40904451.0   169071513.0"
      ]
     },
     "execution_count": 21,
     "metadata": {},
     "output_type": "execute_result"
    }
   ],
   "source": [
    "monthly_sales_pivot = pd.pivot_table(data=sales_df,\n",
    "                             index = \"Month\",\n",
    "                             columns=\"Type\",\n",
    "                             values=\"Sales\",\n",
    "                             aggfunc=\"sum\"    \n",
    "                        )\n",
    "monthly_sales_pivot.tail()"
   ]
  },
  {
   "cell_type": "markdown",
   "metadata": {},
   "source": [
    "Make a lineplot of total medical and recreational cannabis sales by month using the DataFrame above. Label your axes and title. Real extra credit if you can format the y-axis to have more interpretable ticks too ([hint](https://matplotlib.org/3.1.0/gallery/ticks_and_spines/custom_ticker1.html))."
   ]
  },
  {
   "cell_type": "code",
   "execution_count": 22,
   "metadata": {},
   "outputs": [
    {
     "data": {
      "text/plain": [
       "<matplotlib.legend.Legend at 0x1a31e9ac90>"
      ]
     },
     "execution_count": 22,
     "metadata": {},
     "output_type": "execute_result"
    },
    {
     "data": {
      "image/png": "[encoded data removed]",
      "text/plain": [
       "<Figure size 864x576 with 1 Axes>"
      ]
     },
     "metadata": {
      "needs_background": "light"
     },
     "output_type": "display_data"
    }
   ],
   "source": [
    "from matplotlib.ticker import FuncFormatter\n",
    "x = np.arange(4)\n",
    "money = [1.5e5, 2.5e6, 5.5e6, 2.0e7]\n",
    "\n",
    "# this code taken from the hint above\n",
    "def millions(x, pos):\n",
    "    return '$%1.1fM' % (x * 1e-6)\n",
    "\n",
    "\n",
    "formatter = FuncFormatter(millions)\n",
    "\n",
    "f,ax = plt.subplots(figsize=(12,8))\n",
    "\n",
    "ax.yaxis.set_major_formatter(formatter)\n",
    "\n",
    "plt.plot(monthly_sales_pivot[\"Medical\"])\n",
    "plt.plot(monthly_sales_pivot[\"Recreational\"])\n",
    "plt.xlabel(\"Time\",fontsize=15)\n",
    "plt.ylabel(\"Count\",fontsize=15)\n",
    "plt.title(\"Monthly Sales: Medical vs Recreational Marijuana\",fontsize=15)\n",
    "plt.legend([\"Medical\",\"Recreational\"])"
   ]
  },
  {
   "cell_type": "markdown",
   "metadata": {},
   "source": [
    "Pick a county in Colorado and filter original sales DataFrame to only that county's values. Note that not all counties permit medical and/or recreational sales and thus may not be present in the data or they have changed their policies over time creating gaps. Make sure to pick a county with recreational sales. Reshape the data to include recreational and medical like we did above. Save the result as `county_monthly_sales_pivot`. Show the tail of this data."
   ]
  },
  {
   "cell_type": "code",
   "execution_count": 23,
   "metadata": {},
   "outputs": [
    {
     "data": {
      "text/html": [
       "<div>\n",
       "<style scoped>\n",
       "    .dataframe tbody tr th:only-of-type {\n",
       "        vertical-align: middle;\n",
       "    }\n",
       "\n",
       "    .dataframe tbody tr th {\n",
       "        vertical-align: top;\n",
       "    }\n",
       "\n",
       "    .dataframe thead th {\n",
       "        text-align: right;\n",
       "    }\n",
       "</style>\n",
       "<table border=\"1\" class=\"dataframe\">\n",
       "  <thead>\n",
       "    <tr style=\"text-align: right;\">\n",
       "      <th>Type</th>\n",
       "      <th>Medical</th>\n",
       "      <th>Recreational</th>\n",
       "    </tr>\n",
       "    <tr>\n",
       "      <th>Month</th>\n",
       "      <th></th>\n",
       "      <th></th>\n",
       "    </tr>\n",
       "  </thead>\n",
       "  <tbody>\n",
       "    <tr>\n",
       "      <th>2020-04-01</th>\n",
       "      <td>1157461.0</td>\n",
       "      <td>8099503.0</td>\n",
       "    </tr>\n",
       "    <tr>\n",
       "      <th>2020-05-01</th>\n",
       "      <td>1258072.0</td>\n",
       "      <td>10018004.0</td>\n",
       "    </tr>\n",
       "    <tr>\n",
       "      <th>2020-06-01</th>\n",
       "      <td>1306408.0</td>\n",
       "      <td>10759641.0</td>\n",
       "    </tr>\n",
       "    <tr>\n",
       "      <th>2020-07-01</th>\n",
       "      <td>1309949.0</td>\n",
       "      <td>12593191.0</td>\n",
       "    </tr>\n",
       "    <tr>\n",
       "      <th>2020-08-01</th>\n",
       "      <td>1356988.0</td>\n",
       "      <td>12547631.0</td>\n",
       "    </tr>\n",
       "  </tbody>\n",
       "</table>\n",
       "</div>"
      ],
      "text/plain": [
       "Type          Medical  Recreational\n",
       "Month                              \n",
       "2020-04-01  1157461.0     8099503.0\n",
       "2020-05-01  1258072.0    10018004.0\n",
       "2020-06-01  1306408.0    10759641.0\n",
       "2020-07-01  1309949.0    12593191.0\n",
       "2020-08-01  1356988.0    12547631.0"
      ]
     },
     "execution_count": 23,
     "metadata": {},
     "output_type": "execute_result"
    }
   ],
   "source": [
    "county_monthly_sales_pivot = pd.pivot_table(data=sales_df[sales_df[\"County\"]==\"Boulder\"],\n",
    "                             index = \"Month\",\n",
    "                             columns=\"Type\",\n",
    "                             values=\"Sales\",\n",
    "                             aggfunc=\"sum\"    \n",
    "                        )\n",
    "county_monthly_sales_pivot.tail()"
   ]
  },
  {
   "cell_type": "markdown",
   "metadata": {},
   "source": [
    "Visualize the county-level data over time as a line plot like we did above."
   ]
  },
  {
   "cell_type": "code",
   "execution_count": 24,
   "metadata": {},
   "outputs": [
    {
     "data": {
      "text/plain": [
       "<matplotlib.legend.Legend at 0x1a31c73190>"
      ]
     },
     "execution_count": 24,
     "metadata": {},
     "output_type": "execute_result"
    },
    {
     "data": {
      "image/png": "[encoded data removed]",
      "text/plain": [
       "<Figure size 864x576 with 1 Axes>"
      ]
     },
     "metadata": {
      "needs_background": "light"
     },
     "output_type": "display_data"
    }
   ],
   "source": [
    "x = np.arange(4)\n",
    "money = [1.5e5, 2.5e6, 5.5e6, 2.0e7]\n",
    "\n",
    "# this code taken from the hint above\n",
    "def millions(x, pos):\n",
    "    return '$%1.1fM' % (x * 1e-6)\n",
    "\n",
    "formatter = FuncFormatter(millions)\n",
    "\n",
    "f,ax = plt.subplots(figsize=(12,8))\n",
    "\n",
    "ax.yaxis.set_major_formatter(formatter)\n",
    "\n",
    "\n",
    "plt.plot(county_monthly_sales_pivot[\"Medical\"])\n",
    "plt.plot(county_monthly_sales_pivot[\"Recreational\"])\n",
    "plt.xlabel(\"Time\",fontsize=15)\n",
    "plt.ylabel(\"Count\",fontsize=15)\n",
    "plt.title(\"Boulder County Monthly Sales: Medical vs Recreational Marijuana\",fontsize=15)\n",
    "plt.legend([\"Medical\",\"Recreational\"])"
   ]
  },
  {
   "cell_type": "markdown",
   "metadata": {},
   "source": [
    "### Crime data\n",
    "\n",
    "How many times does each county appear in `crime_df`?"
   ]
  },
  {
   "cell_type": "code",
   "execution_count": 25,
   "metadata": {},
   "outputs": [
    {
     "data": {
      "text/html": [
       "<div>\n",
       "<style scoped>\n",
       "    .dataframe tbody tr th:only-of-type {\n",
       "        vertical-align: middle;\n",
       "    }\n",
       "\n",
       "    .dataframe tbody tr th {\n",
       "        vertical-align: top;\n",
       "    }\n",
       "\n",
       "    .dataframe thead th {\n",
       "        text-align: right;\n",
       "    }\n",
       "</style>\n",
       "<table border=\"1\" class=\"dataframe\">\n",
       "  <thead>\n",
       "    <tr style=\"text-align: right;\">\n",
       "      <th></th>\n",
       "      <th>Arrests</th>\n",
       "    </tr>\n",
       "    <tr>\n",
       "      <th>County</th>\n",
       "      <th></th>\n",
       "    </tr>\n",
       "  </thead>\n",
       "  <tbody>\n",
       "    <tr>\n",
       "      <th>Adams</th>\n",
       "      <td>168</td>\n",
       "    </tr>\n",
       "    <tr>\n",
       "      <th>Alamosa</th>\n",
       "      <td>168</td>\n",
       "    </tr>\n",
       "    <tr>\n",
       "      <th>Arapahoe</th>\n",
       "      <td>168</td>\n",
       "    </tr>\n",
       "    <tr>\n",
       "      <th>Archuleta</th>\n",
       "      <td>168</td>\n",
       "    </tr>\n",
       "    <tr>\n",
       "      <th>Baca</th>\n",
       "      <td>168</td>\n",
       "    </tr>\n",
       "    <tr>\n",
       "      <th>...</th>\n",
       "      <td>...</td>\n",
       "    </tr>\n",
       "    <tr>\n",
       "      <th>Summit</th>\n",
       "      <td>168</td>\n",
       "    </tr>\n",
       "    <tr>\n",
       "      <th>Teller</th>\n",
       "      <td>168</td>\n",
       "    </tr>\n",
       "    <tr>\n",
       "      <th>Washington</th>\n",
       "      <td>168</td>\n",
       "    </tr>\n",
       "    <tr>\n",
       "      <th>Weld</th>\n",
       "      <td>168</td>\n",
       "    </tr>\n",
       "    <tr>\n",
       "      <th>Yuma</th>\n",
       "      <td>168</td>\n",
       "    </tr>\n",
       "  </tbody>\n",
       "</table>\n",
       "<p>65 rows × 1 columns</p>\n",
       "</div>"
      ],
      "text/plain": [
       "            Arrests\n",
       "County             \n",
       "Adams           168\n",
       "Alamosa         168\n",
       "Arapahoe        168\n",
       "Archuleta       168\n",
       "Baca            168\n",
       "...             ...\n",
       "Summit          168\n",
       "Teller          168\n",
       "Washington      168\n",
       "Weld            168\n",
       "Yuma            168\n",
       "\n",
       "[65 rows x 1 columns]"
      ]
     },
     "execution_count": 25,
     "metadata": {},
     "output_type": "execute_result"
    }
   ],
   "source": [
    "crime_gb = crime_df.groupby(\"County\").agg({\"Arrests\":\"count\"})\n",
    "crime_gb"
   ]
  },
  {
   "cell_type": "markdown",
   "metadata": {},
   "source": [
    "Reshape the data with \"Time\" in the index and \"DUI\" and \"Narcotics\" as columns and the total number of arrests as values. You can do this with a pivot table or a groupby-aggregation. Save the result as `monthly_crime_pivot` and show the tail."
   ]
  },
  {
   "cell_type": "code",
   "execution_count": 26,
   "metadata": {},
   "outputs": [
    {
     "data": {
      "text/html": [
       "<div>\n",
       "<style scoped>\n",
       "    .dataframe tbody tr th:only-of-type {\n",
       "        vertical-align: middle;\n",
       "    }\n",
       "\n",
       "    .dataframe tbody tr th {\n",
       "        vertical-align: top;\n",
       "    }\n",
       "\n",
       "    .dataframe thead th {\n",
       "        text-align: right;\n",
       "    }\n",
       "</style>\n",
       "<table border=\"1\" class=\"dataframe\">\n",
       "  <thead>\n",
       "    <tr style=\"text-align: right;\">\n",
       "      <th>Type</th>\n",
       "      <th>DUI</th>\n",
       "      <th>Narcotics</th>\n",
       "    </tr>\n",
       "    <tr>\n",
       "      <th>Month</th>\n",
       "      <th></th>\n",
       "      <th></th>\n",
       "    </tr>\n",
       "  </thead>\n",
       "  <tbody>\n",
       "    <tr>\n",
       "      <th>2019-08-01</th>\n",
       "      <td>1871.0</td>\n",
       "      <td>1475.0</td>\n",
       "    </tr>\n",
       "    <tr>\n",
       "      <th>2019-09-01</th>\n",
       "      <td>1683.0</td>\n",
       "      <td>1449.0</td>\n",
       "    </tr>\n",
       "    <tr>\n",
       "      <th>2019-10-01</th>\n",
       "      <td>1581.0</td>\n",
       "      <td>1411.0</td>\n",
       "    </tr>\n",
       "    <tr>\n",
       "      <th>2019-11-01</th>\n",
       "      <td>1762.0</td>\n",
       "      <td>1283.0</td>\n",
       "    </tr>\n",
       "    <tr>\n",
       "      <th>2019-12-01</th>\n",
       "      <td>1718.0</td>\n",
       "      <td>1185.0</td>\n",
       "    </tr>\n",
       "  </tbody>\n",
       "</table>\n",
       "</div>"
      ],
      "text/plain": [
       "Type           DUI  Narcotics\n",
       "Month                        \n",
       "2019-08-01  1871.0     1475.0\n",
       "2019-09-01  1683.0     1449.0\n",
       "2019-10-01  1581.0     1411.0\n",
       "2019-11-01  1762.0     1283.0\n",
       "2019-12-01  1718.0     1185.0"
      ]
     },
     "execution_count": 26,
     "metadata": {},
     "output_type": "execute_result"
    }
   ],
   "source": [
    "monthly_crime_pivot = pd.pivot_table(data=crime_df,\n",
    "                                    index=\"Month\",\n",
    "                                    columns=\"Type\",\n",
    "                                    values=\"Arrests\",\n",
    "                                     aggfunc=\"sum\"\n",
    "                                    )\n",
    "monthly_crime_pivot.tail()"
   ]
  },
  {
   "cell_type": "markdown",
   "metadata": {},
   "source": [
    "Make a lineplot of total DUI and Narcotics arrests by month using `monthly_crime_pivot`. Label your axes and title."
   ]
  },
  {
   "cell_type": "code",
   "execution_count": 27,
   "metadata": {},
   "outputs": [
    {
     "data": {
      "text/plain": [
       "<matplotlib.legend.Legend at 0x1a31ee2f90>"
      ]
     },
     "execution_count": 27,
     "metadata": {},
     "output_type": "execute_result"
    },
    {
     "data": {
      "image/png": "[encoded data removed]",
      "text/plain": [
       "<Figure size 864x576 with 1 Axes>"
      ]
     },
     "metadata": {
      "needs_background": "light"
     },
     "output_type": "display_data"
    }
   ],
   "source": [
    "f,ax = plt.subplots(figsize=(12,8))\n",
    "\n",
    "plt.plot(monthly_crime_pivot[\"DUI\"])\n",
    "plt.plot(monthly_crime_pivot[\"Narcotics\"])\n",
    "plt.xlabel(\"Time\",fontsize=15)\n",
    "plt.ylabel(\"Count\",fontsize=15)\n",
    "plt.title(\"Colorado Monthly Crime: DUI vs Narcotics\",fontsize=15)\n",
    "plt.legend([\"DUI\",\"Narcotics\"])"
   ]
  },
  {
   "cell_type": "markdown",
   "metadata": {},
   "source": [
    "Pick a county in Colorado and filter the crime DataFrame to only that county's values. Reshape the data to include DUIs and Narcotics like we did above. Save as `county_monthly_crime_pivot`. Show the tail of this data."
   ]
  },
  {
   "cell_type": "code",
   "execution_count": 28,
   "metadata": {},
   "outputs": [
    {
     "data": {
      "text/html": [
       "<div>\n",
       "<style scoped>\n",
       "    .dataframe tbody tr th:only-of-type {\n",
       "        vertical-align: middle;\n",
       "    }\n",
       "\n",
       "    .dataframe tbody tr th {\n",
       "        vertical-align: top;\n",
       "    }\n",
       "\n",
       "    .dataframe thead th {\n",
       "        text-align: right;\n",
       "    }\n",
       "</style>\n",
       "<table border=\"1\" class=\"dataframe\">\n",
       "  <thead>\n",
       "    <tr style=\"text-align: right;\">\n",
       "      <th>Type</th>\n",
       "      <th>DUI</th>\n",
       "      <th>Narcotics</th>\n",
       "    </tr>\n",
       "    <tr>\n",
       "      <th>Month</th>\n",
       "      <th></th>\n",
       "      <th></th>\n",
       "    </tr>\n",
       "  </thead>\n",
       "  <tbody>\n",
       "    <tr>\n",
       "      <th>2019-08-01</th>\n",
       "      <td>44.0</td>\n",
       "      <td>60.0</td>\n",
       "    </tr>\n",
       "    <tr>\n",
       "      <th>2019-09-01</th>\n",
       "      <td>52.0</td>\n",
       "      <td>94.0</td>\n",
       "    </tr>\n",
       "    <tr>\n",
       "      <th>2019-10-01</th>\n",
       "      <td>43.0</td>\n",
       "      <td>70.0</td>\n",
       "    </tr>\n",
       "    <tr>\n",
       "      <th>2019-11-01</th>\n",
       "      <td>47.0</td>\n",
       "      <td>55.0</td>\n",
       "    </tr>\n",
       "    <tr>\n",
       "      <th>2019-12-01</th>\n",
       "      <td>50.0</td>\n",
       "      <td>68.0</td>\n",
       "    </tr>\n",
       "  </tbody>\n",
       "</table>\n",
       "</div>"
      ],
      "text/plain": [
       "Type         DUI  Narcotics\n",
       "Month                      \n",
       "2019-08-01  44.0       60.0\n",
       "2019-09-01  52.0       94.0\n",
       "2019-10-01  43.0       70.0\n",
       "2019-11-01  47.0       55.0\n",
       "2019-12-01  50.0       68.0"
      ]
     },
     "execution_count": 28,
     "metadata": {},
     "output_type": "execute_result"
    }
   ],
   "source": [
    "county_monthly_crime_pivot = pd.pivot_table(data=crime_df[crime_df[\"County\"]==\"Boulder\"],\n",
    "                                    index=\"Month\",\n",
    "                                    columns=\"Type\",\n",
    "                                    values=\"Arrests\"\n",
    "                                    \n",
    "                                    )\n",
    "county_monthly_crime_pivot.tail()"
   ]
  },
  {
   "cell_type": "markdown",
   "metadata": {},
   "source": [
    "Visualize the county-level data over time as a line plot like we did above."
   ]
  },
  {
   "cell_type": "code",
   "execution_count": 29,
   "metadata": {},
   "outputs": [
    {
     "data": {
      "text/plain": [
       "<matplotlib.legend.Legend at 0x1a32240410>"
      ]
     },
     "execution_count": 29,
     "metadata": {},
     "output_type": "execute_result"
    },
    {
     "data": {
      "image/png": "[encoded data removed]",
      "text/plain": [
       "<Figure size 864x576 with 1 Axes>"
      ]
     },
     "metadata": {
      "needs_background": "light"
     },
     "output_type": "display_data"
    }
   ],
   "source": [
    "f,ax = plt.subplots(figsize=(12,8))\n",
    "\n",
    "plt.plot(county_monthly_crime_pivot[\"DUI\"])\n",
    "plt.plot(county_monthly_crime_pivot[\"Narcotics\"])\n",
    "plt.xlabel(\"Time\",fontsize=15)\n",
    "plt.ylabel(\"Count\",fontsize=15)\n",
    "plt.title(\"Boulder County Monthly Crime: DUI vs Narcotics\",fontsize=15)\n",
    "plt.legend([\"DUI\",\"Narcotics\"])"
   ]
  },
  {
   "cell_type": "markdown",
   "metadata": {},
   "source": [
    "### Combine both state-level datasets\n",
    "\n",
    "Use `pd.merge` to combine the reshaped state-level DataFrames using an \"inner\" join called `combined_df` and inspect."
   ]
  },
  {
   "cell_type": "code",
   "execution_count": 30,
   "metadata": {},
   "outputs": [
    {
     "data": {
      "text/html": [
       "<div>\n",
       "<style scoped>\n",
       "    .dataframe tbody tr th:only-of-type {\n",
       "        vertical-align: middle;\n",
       "    }\n",
       "\n",
       "    .dataframe tbody tr th {\n",
       "        vertical-align: top;\n",
       "    }\n",
       "\n",
       "    .dataframe thead th {\n",
       "        text-align: right;\n",
       "    }\n",
       "</style>\n",
       "<table border=\"1\" class=\"dataframe\">\n",
       "  <thead>\n",
       "    <tr style=\"text-align: right;\">\n",
       "      <th>Type</th>\n",
       "      <th>DUI</th>\n",
       "      <th>Narcotics</th>\n",
       "      <th>Medical</th>\n",
       "      <th>Recreational</th>\n",
       "    </tr>\n",
       "    <tr>\n",
       "      <th>Month</th>\n",
       "      <th></th>\n",
       "      <th></th>\n",
       "      <th></th>\n",
       "      <th></th>\n",
       "    </tr>\n",
       "  </thead>\n",
       "  <tbody>\n",
       "    <tr>\n",
       "      <th>2014-01-01</th>\n",
       "      <td>1941.0</td>\n",
       "      <td>1070.0</td>\n",
       "      <td>32105349.0</td>\n",
       "      <td>11606429.0</td>\n",
       "    </tr>\n",
       "    <tr>\n",
       "      <th>2014-02-01</th>\n",
       "      <td>1853.0</td>\n",
       "      <td>1067.0</td>\n",
       "      <td>31203950.0</td>\n",
       "      <td>11905758.0</td>\n",
       "    </tr>\n",
       "    <tr>\n",
       "      <th>2014-03-01</th>\n",
       "      <td>2373.0</td>\n",
       "      <td>1254.0</td>\n",
       "      <td>33964665.0</td>\n",
       "      <td>16799118.0</td>\n",
       "    </tr>\n",
       "    <tr>\n",
       "      <th>2014-04-01</th>\n",
       "      <td>2140.0</td>\n",
       "      <td>1287.0</td>\n",
       "      <td>32079528.0</td>\n",
       "      <td>18520452.0</td>\n",
       "    </tr>\n",
       "    <tr>\n",
       "      <th>2014-05-01</th>\n",
       "      <td>2281.0</td>\n",
       "      <td>1136.0</td>\n",
       "      <td>30832970.0</td>\n",
       "      <td>18920521.0</td>\n",
       "    </tr>\n",
       "  </tbody>\n",
       "</table>\n",
       "</div>"
      ],
      "text/plain": [
       "Type           DUI  Narcotics     Medical  Recreational\n",
       "Month                                                  \n",
       "2014-01-01  1941.0     1070.0  32105349.0    11606429.0\n",
       "2014-02-01  1853.0     1067.0  31203950.0    11905758.0\n",
       "2014-03-01  2373.0     1254.0  33964665.0    16799118.0\n",
       "2014-04-01  2140.0     1287.0  32079528.0    18520452.0\n",
       "2014-05-01  2281.0     1136.0  30832970.0    18920521.0"
      ]
     },
     "execution_count": 30,
     "metadata": {},
     "output_type": "execute_result"
    }
   ],
   "source": [
    "combined_df = pd.merge(left=monthly_crime_pivot,\n",
    "                      right=monthly_sales_pivot,\n",
    "                      how=\"inner\",\n",
    "                       on=\"Month\"\n",
    "                      )\n",
    "combined_df.head()"
   ]
  },
  {
   "cell_type": "markdown",
   "metadata": {},
   "source": [
    "Create a new normalized DataFrame called `normalized_df` by [dividing](https://pandas.pydata.org/pandas-docs/stable/reference/api/pandas.DataFrame.divide.html) by the January 2014 values in each column."
   ]
  },
  {
   "cell_type": "code",
   "execution_count": 31,
   "metadata": {},
   "outputs": [],
   "source": [
    "normalized_df = combined_df.div(combined_df.iloc[0])"
   ]
  },
  {
   "cell_type": "markdown",
   "metadata": {},
   "source": [
    "Inspect the head of `normalized_df` to confirm the January 1, 2014 values are 1."
   ]
  },
  {
   "cell_type": "code",
   "execution_count": 32,
   "metadata": {},
   "outputs": [
    {
     "data": {
      "text/html": [
       "<div>\n",
       "<style scoped>\n",
       "    .dataframe tbody tr th:only-of-type {\n",
       "        vertical-align: middle;\n",
       "    }\n",
       "\n",
       "    .dataframe tbody tr th {\n",
       "        vertical-align: top;\n",
       "    }\n",
       "\n",
       "    .dataframe thead th {\n",
       "        text-align: right;\n",
       "    }\n",
       "</style>\n",
       "<table border=\"1\" class=\"dataframe\">\n",
       "  <thead>\n",
       "    <tr style=\"text-align: right;\">\n",
       "      <th>Type</th>\n",
       "      <th>DUI</th>\n",
       "      <th>Narcotics</th>\n",
       "      <th>Medical</th>\n",
       "      <th>Recreational</th>\n",
       "    </tr>\n",
       "    <tr>\n",
       "      <th>Month</th>\n",
       "      <th></th>\n",
       "      <th></th>\n",
       "      <th></th>\n",
       "      <th></th>\n",
       "    </tr>\n",
       "  </thead>\n",
       "  <tbody>\n",
       "    <tr>\n",
       "      <th>2014-01-01</th>\n",
       "      <td>1.000000</td>\n",
       "      <td>1.000000</td>\n",
       "      <td>1.000000</td>\n",
       "      <td>1.000000</td>\n",
       "    </tr>\n",
       "    <tr>\n",
       "      <th>2014-02-01</th>\n",
       "      <td>0.954663</td>\n",
       "      <td>0.997196</td>\n",
       "      <td>0.971924</td>\n",
       "      <td>1.025790</td>\n",
       "    </tr>\n",
       "    <tr>\n",
       "      <th>2014-03-01</th>\n",
       "      <td>1.222566</td>\n",
       "      <td>1.171963</td>\n",
       "      <td>1.057913</td>\n",
       "      <td>1.447398</td>\n",
       "    </tr>\n",
       "    <tr>\n",
       "      <th>2014-04-01</th>\n",
       "      <td>1.102524</td>\n",
       "      <td>1.202804</td>\n",
       "      <td>0.999196</td>\n",
       "      <td>1.595706</td>\n",
       "    </tr>\n",
       "    <tr>\n",
       "      <th>2014-05-01</th>\n",
       "      <td>1.175167</td>\n",
       "      <td>1.061682</td>\n",
       "      <td>0.960369</td>\n",
       "      <td>1.630176</td>\n",
       "    </tr>\n",
       "  </tbody>\n",
       "</table>\n",
       "</div>"
      ],
      "text/plain": [
       "Type             DUI  Narcotics   Medical  Recreational\n",
       "Month                                                  \n",
       "2014-01-01  1.000000   1.000000  1.000000      1.000000\n",
       "2014-02-01  0.954663   0.997196  0.971924      1.025790\n",
       "2014-03-01  1.222566   1.171963  1.057913      1.447398\n",
       "2014-04-01  1.102524   1.202804  0.999196      1.595706\n",
       "2014-05-01  1.175167   1.061682  0.960369      1.630176"
      ]
     },
     "execution_count": 32,
     "metadata": {},
     "output_type": "execute_result"
    }
   ],
   "source": [
    "normalized_df.head()"
   ]
  },
  {
   "cell_type": "markdown",
   "metadata": {},
   "source": [
    "Using `normalized_df`, make a line plot with the normalized DUI and Recreational values."
   ]
  },
  {
   "cell_type": "code",
   "execution_count": 33,
   "metadata": {},
   "outputs": [
    {
     "data": {
      "text/plain": [
       "<matplotlib.legend.Legend at 0x1a322f7f50>"
      ]
     },
     "execution_count": 33,
     "metadata": {},
     "output_type": "execute_result"
    },
    {
     "data": {
      "image/png": "[encoded data removed]",
      "text/plain": [
       "<Figure size 864x576 with 1 Axes>"
      ]
     },
     "metadata": {
      "needs_background": "light"
     },
     "output_type": "display_data"
    }
   ],
   "source": [
    "f,ax = plt.subplots(figsize=(12,8))\n",
    "\n",
    "plt.plot(normalized_df[\"DUI\"])\n",
    "plt.plot(normalized_df[\"Recreational\"])\n",
    "plt.xlabel(\"Time\",fontsize=15)\n",
    "plt.ylabel(\"Count\",fontsize=15)\n",
    "plt.title(\"Normalized Plot of Colorado DUI's and Recreational Marijuana Uses\",fontsize=15)\n",
    "plt.legend([\"DUI\",\"Recreational Marijuana\"])"
   ]
  },
  {
   "cell_type": "markdown",
   "metadata": {},
   "source": [
    "Is this a helpful visualization? Why or why not?"
   ]
  },
  {
   "cell_type": "markdown",
   "metadata": {},
   "source": [
    "I would say yes and no. It is helpful in the sense that it shows us how much recreational marijuana usage has grown in the past 6 years. However, it really doesn't make sense to also be plotting a normalized DUI lineplot because this doesn't show us anything. I suppose the graph is actually very helpful in showing that there is no correlation between the increase of recreational usage of marijuana and the number of DUI's."
   ]
  },
  {
   "cell_type": "markdown",
   "metadata": {},
   "source": [
    "Compute the [correlation coefficients](https://pandas.pydata.org/pandas-docs/stable/reference/api/pandas.DataFrame.corr.html) between the columns in `normalized_df`. (The values are symmetrical around the diagonal.) Pick two different values and interpret them."
   ]
  },
  {
   "cell_type": "code",
   "execution_count": 34,
   "metadata": {},
   "outputs": [
    {
     "data": {
      "text/html": [
       "<div>\n",
       "<style scoped>\n",
       "    .dataframe tbody tr th:only-of-type {\n",
       "        vertical-align: middle;\n",
       "    }\n",
       "\n",
       "    .dataframe tbody tr th {\n",
       "        vertical-align: top;\n",
       "    }\n",
       "\n",
       "    .dataframe thead th {\n",
       "        text-align: right;\n",
       "    }\n",
       "</style>\n",
       "<table border=\"1\" class=\"dataframe\">\n",
       "  <thead>\n",
       "    <tr style=\"text-align: right;\">\n",
       "      <th>Type</th>\n",
       "      <th>DUI</th>\n",
       "      <th>Narcotics</th>\n",
       "      <th>Medical</th>\n",
       "      <th>Recreational</th>\n",
       "    </tr>\n",
       "    <tr>\n",
       "      <th>Type</th>\n",
       "      <th></th>\n",
       "      <th></th>\n",
       "      <th></th>\n",
       "      <th></th>\n",
       "    </tr>\n",
       "  </thead>\n",
       "  <tbody>\n",
       "    <tr>\n",
       "      <th>DUI</th>\n",
       "      <td>1.000000</td>\n",
       "      <td>-0.240662</td>\n",
       "      <td>0.276697</td>\n",
       "      <td>-0.628621</td>\n",
       "    </tr>\n",
       "    <tr>\n",
       "      <th>Narcotics</th>\n",
       "      <td>-0.240662</td>\n",
       "      <td>1.000000</td>\n",
       "      <td>-0.208629</td>\n",
       "      <td>0.629456</td>\n",
       "    </tr>\n",
       "    <tr>\n",
       "      <th>Medical</th>\n",
       "      <td>0.276697</td>\n",
       "      <td>-0.208629</td>\n",
       "      <td>1.000000</td>\n",
       "      <td>-0.313120</td>\n",
       "    </tr>\n",
       "    <tr>\n",
       "      <th>Recreational</th>\n",
       "      <td>-0.628621</td>\n",
       "      <td>0.629456</td>\n",
       "      <td>-0.313120</td>\n",
       "      <td>1.000000</td>\n",
       "    </tr>\n",
       "  </tbody>\n",
       "</table>\n",
       "</div>"
      ],
      "text/plain": [
       "Type               DUI  Narcotics   Medical  Recreational\n",
       "Type                                                     \n",
       "DUI           1.000000  -0.240662  0.276697     -0.628621\n",
       "Narcotics    -0.240662   1.000000 -0.208629      0.629456\n",
       "Medical       0.276697  -0.208629  1.000000     -0.313120\n",
       "Recreational -0.628621   0.629456 -0.313120      1.000000"
      ]
     },
     "execution_count": 34,
     "metadata": {},
     "output_type": "execute_result"
    }
   ],
   "source": [
    "normalized_df.corr()"
   ]
  },
  {
   "cell_type": "markdown",
   "metadata": {},
   "source": [
    "Using `normalized_df`, make a scatter plot with \"Recreational\" on the x-axis and \"DUI\" on the y-axis."
   ]
  },
  {
   "cell_type": "code",
   "execution_count": 35,
   "metadata": {},
   "outputs": [
    {
     "data": {
      "text/plain": [
       "Text(0, 0.5, 'DUI')"
      ]
     },
     "execution_count": 35,
     "metadata": {},
     "output_type": "execute_result"
    },
    {
     "data": {
      "image/png": "[encoded data removed]",
      "text/plain": [
       "<Figure size 432x288 with 1 Axes>"
      ]
     },
     "metadata": {
      "needs_background": "light"
     },
     "output_type": "display_data"
    }
   ],
   "source": [
    "plt.scatter(x=normalized_df[\"Recreational\"],y=normalized_df[\"DUI\"])\n",
    "plt.xlabel(\"Recreational\")\n",
    "plt.ylabel(\"DUI\")"
   ]
  },
  {
   "cell_type": "markdown",
   "metadata": {},
   "source": [
    "Interpret the plot."
   ]
  },
  {
   "cell_type": "markdown",
   "metadata": {},
   "source": [
    "This scatter plot shows that with more recreational use of marijuana the number of DUI's actually generally decreases. This may suprise most people. One possible explanation could be that as the popularity of recreational marijuana increased over time this led to less consumption of alcohol and thus less DUI's from alcohol intoxication. Although we must pay close attention that DUI's have only decreased by roughly 20% in this plot while recreational marijuana use has increased by over 10 times."
   ]
  },
  {
   "cell_type": "markdown",
   "metadata": {},
   "source": [
    "Using `normalized_df`, make a scatter plot data with \"Recreational\" on the x-axis and \"Narcotics\" on the y-axis."
   ]
  },
  {
   "cell_type": "code",
   "execution_count": 36,
   "metadata": {},
   "outputs": [
    {
     "data": {
      "text/plain": [
       "Text(0, 0.5, 'Narcotics')"
      ]
     },
     "execution_count": 36,
     "metadata": {},
     "output_type": "execute_result"
    },
    {
     "data": {
      "image/png": "[encoded data removed]",
      "text/plain": [
       "<Figure size 432x288 with 1 Axes>"
      ]
     },
     "metadata": {
      "needs_background": "light"
     },
     "output_type": "display_data"
    }
   ],
   "source": [
    "plt.scatter(x=normalized_df[\"Recreational\"],y=normalized_df[\"Narcotics\"])\n",
    "plt.xlabel(\"Recreational\")\n",
    "plt.ylabel(\"Narcotics\")"
   ]
  },
  {
   "cell_type": "markdown",
   "metadata": {},
   "source": [
    "Interpet this plot."
   ]
  },
  {
   "cell_type": "markdown",
   "metadata": {},
   "source": [
    "This graph shows that as recreational marijuana use has increased so has the use of narcotics. Although we see a lot of discrepancy between the points, the overall trendline is a positive slope representing a positive correlation."
   ]
  },
  {
   "cell_type": "markdown",
   "metadata": {},
   "source": [
    "## Spatial visualization\n",
    "\n",
    "### Sales data\n",
    "Merge the county GeoDataFrame (left) with the original sales data (right) with a left join on the county names to a GeoDataFrame called `sales_gdf`. Check to make sure the merged object is a GeoDataFrame, print the shape, and inspect the head."
   ]
  },
  {
   "cell_type": "code",
   "execution_count": 54,
   "metadata": {},
   "outputs": [
    {
     "data": {
      "text/plain": [
       "geopandas.geodataframe.GeoDataFrame"
      ]
     },
     "execution_count": 54,
     "metadata": {},
     "output_type": "execute_result"
    }
   ],
   "source": [
    "sales_gdf = pd.merge(left=co_counties_gdf,\n",
    "                    right=sales_df,\n",
    "                    how=\"left\",\n",
    "                    left_on=\"county\",\n",
    "                    right_on=\"County\")\n",
    "\n",
    "sales_gdf = sales_gdf.to_crs(epsg='3857')\n",
    "type(sales_gdf)"
   ]
  },
  {
   "cell_type": "code",
   "execution_count": 55,
   "metadata": {},
   "outputs": [
    {
     "data": {
      "text/plain": [
       "(5418, 13)"
      ]
     },
     "execution_count": 55,
     "metadata": {},
     "output_type": "execute_result"
    }
   ],
   "source": [
    "sales_gdf.shape"
   ]
  },
  {
   "cell_type": "code",
   "execution_count": 56,
   "metadata": {},
   "outputs": [
    {
     "data": {
      "text/html": [
       "<div>\n",
       "<style scoped>\n",
       "    .dataframe tbody tr th:only-of-type {\n",
       "        vertical-align: middle;\n",
       "    }\n",
       "\n",
       "    .dataframe tbody tr th {\n",
       "        vertical-align: top;\n",
       "    }\n",
       "\n",
       "    .dataframe thead th {\n",
       "        text-align: right;\n",
       "    }\n",
       "</style>\n",
       "<table border=\"1\" class=\"dataframe\">\n",
       "  <thead>\n",
       "    <tr style=\"text-align: right;\">\n",
       "      <th></th>\n",
       "      <th>co_fips</th>\n",
       "      <th>county</th>\n",
       "      <th>househo_20</th>\n",
       "      <th>pop_2010</th>\n",
       "      <th>shape_st_1</th>\n",
       "      <th>shape_st_2</th>\n",
       "      <th>shape_star</th>\n",
       "      <th>shape_stle</th>\n",
       "      <th>geometry</th>\n",
       "      <th>Month</th>\n",
       "      <th>County</th>\n",
       "      <th>Sales</th>\n",
       "      <th>Type</th>\n",
       "    </tr>\n",
       "  </thead>\n",
       "  <tbody>\n",
       "    <tr>\n",
       "      <th>0</th>\n",
       "      <td>1.0</td>\n",
       "      <td>Adams</td>\n",
       "      <td>154502.0</td>\n",
       "      <td>441603.0</td>\n",
       "      <td>3.064413e+09</td>\n",
       "      <td>392729.110497</td>\n",
       "      <td>0.0</td>\n",
       "      <td>0.0</td>\n",
       "      <td>POLYGON ((-11544470.336 4865929.356, -11544464...</td>\n",
       "      <td>2014-01-01</td>\n",
       "      <td>Adams</td>\n",
       "      <td>683098.0</td>\n",
       "      <td>Medical</td>\n",
       "    </tr>\n",
       "    <tr>\n",
       "      <th>1</th>\n",
       "      <td>1.0</td>\n",
       "      <td>Adams</td>\n",
       "      <td>154502.0</td>\n",
       "      <td>441603.0</td>\n",
       "      <td>3.064413e+09</td>\n",
       "      <td>392729.110497</td>\n",
       "      <td>0.0</td>\n",
       "      <td>0.0</td>\n",
       "      <td>POLYGON ((-11544470.336 4865929.356, -11544464...</td>\n",
       "      <td>2014-01-01</td>\n",
       "      <td>Adams</td>\n",
       "      <td>NaN</td>\n",
       "      <td>Recreational</td>\n",
       "    </tr>\n",
       "    <tr>\n",
       "      <th>2</th>\n",
       "      <td>1.0</td>\n",
       "      <td>Adams</td>\n",
       "      <td>154502.0</td>\n",
       "      <td>441603.0</td>\n",
       "      <td>3.064413e+09</td>\n",
       "      <td>392729.110497</td>\n",
       "      <td>0.0</td>\n",
       "      <td>0.0</td>\n",
       "      <td>POLYGON ((-11544470.336 4865929.356, -11544464...</td>\n",
       "      <td>2014-02-01</td>\n",
       "      <td>Adams</td>\n",
       "      <td>NaN</td>\n",
       "      <td>Recreational</td>\n",
       "    </tr>\n",
       "    <tr>\n",
       "      <th>3</th>\n",
       "      <td>1.0</td>\n",
       "      <td>Adams</td>\n",
       "      <td>154502.0</td>\n",
       "      <td>441603.0</td>\n",
       "      <td>3.064413e+09</td>\n",
       "      <td>392729.110497</td>\n",
       "      <td>0.0</td>\n",
       "      <td>0.0</td>\n",
       "      <td>POLYGON ((-11544470.336 4865929.356, -11544464...</td>\n",
       "      <td>2014-02-01</td>\n",
       "      <td>Adams</td>\n",
       "      <td>454940.0</td>\n",
       "      <td>Medical</td>\n",
       "    </tr>\n",
       "    <tr>\n",
       "      <th>4</th>\n",
       "      <td>1.0</td>\n",
       "      <td>Adams</td>\n",
       "      <td>154502.0</td>\n",
       "      <td>441603.0</td>\n",
       "      <td>3.064413e+09</td>\n",
       "      <td>392729.110497</td>\n",
       "      <td>0.0</td>\n",
       "      <td>0.0</td>\n",
       "      <td>POLYGON ((-11544470.336 4865929.356, -11544464...</td>\n",
       "      <td>2014-03-01</td>\n",
       "      <td>Adams</td>\n",
       "      <td>NaN</td>\n",
       "      <td>Recreational</td>\n",
       "    </tr>\n",
       "  </tbody>\n",
       "</table>\n",
       "</div>"
      ],
      "text/plain": [
       "   co_fips county  househo_20  pop_2010    shape_st_1     shape_st_2  \\\n",
       "0      1.0  Adams    154502.0  441603.0  3.064413e+09  392729.110497   \n",
       "1      1.0  Adams    154502.0  441603.0  3.064413e+09  392729.110497   \n",
       "2      1.0  Adams    154502.0  441603.0  3.064413e+09  392729.110497   \n",
       "3      1.0  Adams    154502.0  441603.0  3.064413e+09  392729.110497   \n",
       "4      1.0  Adams    154502.0  441603.0  3.064413e+09  392729.110497   \n",
       "\n",
       "   shape_star  shape_stle                                           geometry  \\\n",
       "0         0.0         0.0  POLYGON ((-11544470.336 4865929.356, -11544464...   \n",
       "1         0.0         0.0  POLYGON ((-11544470.336 4865929.356, -11544464...   \n",
       "2         0.0         0.0  POLYGON ((-11544470.336 4865929.356, -11544464...   \n",
       "3         0.0         0.0  POLYGON ((-11544470.336 4865929.356, -11544464...   \n",
       "4         0.0         0.0  POLYGON ((-11544470.336 4865929.356, -11544464...   \n",
       "\n",
       "       Month County     Sales          Type  \n",
       "0 2014-01-01  Adams  683098.0       Medical  \n",
       "1 2014-01-01  Adams       NaN  Recreational  \n",
       "2 2014-02-01  Adams       NaN  Recreational  \n",
       "3 2014-02-01  Adams  454940.0       Medical  \n",
       "4 2014-03-01  Adams       NaN  Recreational  "
      ]
     },
     "execution_count": 56,
     "metadata": {},
     "output_type": "execute_result"
    }
   ],
   "source": [
    "sales_gdf.head()"
   ]
  },
  {
   "cell_type": "markdown",
   "metadata": {},
   "source": [
    "Filter the data to \"Recreational\" sales in December 2014. Visualize the \"Sales\" as a choropleth. Bonus points for using a basemap. Extra bonus points for using a [lognorm colormap](https://matplotlib.org/3.1.0/gallery/userdemo/colormap_normalizations_lognorm.html)."
   ]
  },
  {
   "cell_type": "code",
   "execution_count": 57,
   "metadata": {},
   "outputs": [],
   "source": [
    "filtered_2014 = sales_gdf[sales_gdf[\"Month\"]==\"2014-12-01\"]\n",
    "filtered_2014 = filtered_2014[filtered_2014[\"Type\"]==\"Recreational\"]"
   ]
  },
  {
   "cell_type": "code",
   "execution_count": 58,
   "metadata": {},
   "outputs": [],
   "source": [
    "import geoplot.crs as gcrs"
   ]
  },
  {
   "cell_type": "code",
   "execution_count": 59,
   "metadata": {},
   "outputs": [
    {
     "data": {
      "text/plain": [
       "{'init': 'epsg:3857', 'no_defs': True}"
      ]
     },
     "execution_count": 59,
     "metadata": {},
     "output_type": "execute_result"
    }
   ],
   "source": [
    "filtered_2014.crs"
   ]
  },
  {
   "cell_type": "code",
   "execution_count": 60,
   "metadata": {},
   "outputs": [
    {
     "data": {
      "text/plain": [
       "<AxesSubplot:>"
      ]
     },
     "execution_count": 60,
     "metadata": {},
     "output_type": "execute_result"
    },
    {
     "data": {
      "image/png": "[encoded data removed]",
      "text/plain": [
       "<Figure size 576x360 with 2 Axes>"
      ]
     },
     "metadata": {
      "needs_background": "light"
     },
     "output_type": "display_data"
    }
   ],
   "source": [
    "N = 100\n",
    "X, Y = np.mgrid[-3:3:complex(0, N), -2:2:complex(0, N)]\n",
    "Z = np.exp(X**2 - Y**2)\n",
    "\n",
    "f,ax1 = plt.subplots(figsize=(8,5))\n",
    "\n",
    "filtered_2014.plot(column=\"Sales\",\n",
    "              norm=colors.LogNorm(vmin=1, vmax=3500000),#Z.max()),\n",
    "                edgecolor='k',\n",
    "               lw=.5,\n",
    "              cmap=\"cividis\",#'PuBu_r',\n",
    "               legend=True,\n",
    "              ax=ax1)\n"
   ]
  },
  {
   "cell_type": "markdown",
   "metadata": {},
   "source": [
    "Filter the data to \"Recreational\" sales in December 2019. Visualize the \"Sales\" as a choropleth. Bonus points for using a basemap. Extra bonus points for using a [lognorm colormap](https://matplotlib.org/3.1.0/gallery/userdemo/colormap_normalizations_lognorm.html)."
   ]
  },
  {
   "cell_type": "code",
   "execution_count": 62,
   "metadata": {},
   "outputs": [],
   "source": [
    "filtered_2019 = sales_gdf[sales_gdf[\"Month\"]==\"2019-12-01\"]\n",
    "filtered_2019 = filtered_2019[filtered_2019[\"Type\"]==\"Recreational\"]"
   ]
  },
  {
   "cell_type": "code",
   "execution_count": 94,
   "metadata": {},
   "outputs": [
    {
     "data": {
      "text/plain": [
       "<AxesSubplot:title={'center':'2014'}>"
      ]
     },
     "execution_count": 94,
     "metadata": {},
     "output_type": "execute_result"
    },
    {
     "data": {
      "image/png": "[encoded data removed]",
      "text/plain": [
       "<Figure size 576x360 with 2 Axes>"
      ]
     },
     "metadata": {
      "needs_background": "light"
     },
     "output_type": "display_data"
    },
    {
     "data": {
      "image/png": "[encoded data removed]",
      "text/plain": [
       "<Figure size 576x360 with 2 Axes>"
      ]
     },
     "metadata": {
      "needs_background": "light"
     },
     "output_type": "display_data"
    }
   ],
   "source": [
    "N = 100\n",
    "X, Y = np.mgrid[-3:3:complex(0, N), -2:2:complex(0, N)]\n",
    "Z = np.exp(-X**2 - Y**2)\n",
    "\n",
    "f,ax1 = plt.subplots(figsize=(8,5))\n",
    "\n",
    "\n",
    "filtered_2019.plot(column=\"Sales\",\n",
    "              norm=colors.LogNorm(vmin=1, vmax=3500000),#Z.max()),\n",
    "                edgecolor='k',\n",
    "               lw=.5,\n",
    "           #   cmap=\"cividis\",#'PuBu_r',\n",
    "               legend=True,\n",
    "              ax=ax1)\n",
    "\n",
    "plt.title(\"2019\")\n",
    "f,ax2 = plt.subplots(figsize=(8,5))\n",
    "\n",
    "plt.title(\"2014\")\n",
    "filtered_2014.plot(column=\"Sales\",\n",
    "              norm=colors.LogNorm(vmin=1, vmax=3500000),#Z.max()),\n",
    "                edgecolor='k',\n",
    "               lw=.5,\n",
    "           #   cmap=\"cividis\",#'PuBu_r',\n",
    "               legend=True,\n",
    "              ax=ax2)"
   ]
  },
  {
   "cell_type": "markdown",
   "metadata": {},
   "source": [
    "Interpet some changes you observe between the two maps."
   ]
  },
  {
   "cell_type": "markdown",
   "metadata": {},
   "source": [
    "Here we see that the number of counties that sold any number of recreational marijuana increased substantially from 2014 to 2019. This is visible because the 2014 map has many counties that reported no data, however these counties report sales in the 2019 map. "
   ]
  },
  {
   "cell_type": "markdown",
   "metadata": {},
   "source": [
    "### Crime data\n",
    "\n",
    "Merge `co_counties_gdf` (left) with `crime_df` (right) into a GeoDataFrame called `crime_gdf`. Check to make sure the merged object is a GeoDataFrame, print the shape, and inspect the head."
   ]
  },
  {
   "cell_type": "code",
   "execution_count": 70,
   "metadata": {},
   "outputs": [
    {
     "data": {
      "text/plain": [
       "geopandas.geodataframe.GeoDataFrame"
      ]
     },
     "execution_count": 70,
     "metadata": {},
     "output_type": "execute_result"
    }
   ],
   "source": [
    "crime_gdf = pd.merge(left=co_counties_gdf,\n",
    "                    right=crime_df,\n",
    "                    how=\"left\",\n",
    "                    left_on=\"county\",\n",
    "                    right_on=\"County\")\n",
    "type(crime_gdf)"
   ]
  },
  {
   "cell_type": "code",
   "execution_count": 71,
   "metadata": {},
   "outputs": [
    {
     "data": {
      "text/plain": [
       "(10417, 13)"
      ]
     },
     "execution_count": 71,
     "metadata": {},
     "output_type": "execute_result"
    }
   ],
   "source": [
    "crime_gdf.shape"
   ]
  },
  {
   "cell_type": "code",
   "execution_count": 72,
   "metadata": {},
   "outputs": [
    {
     "data": {
      "text/html": [
       "<div>\n",
       "<style scoped>\n",
       "    .dataframe tbody tr th:only-of-type {\n",
       "        vertical-align: middle;\n",
       "    }\n",
       "\n",
       "    .dataframe tbody tr th {\n",
       "        vertical-align: top;\n",
       "    }\n",
       "\n",
       "    .dataframe thead th {\n",
       "        text-align: right;\n",
       "    }\n",
       "</style>\n",
       "<table border=\"1\" class=\"dataframe\">\n",
       "  <thead>\n",
       "    <tr style=\"text-align: right;\">\n",
       "      <th></th>\n",
       "      <th>co_fips</th>\n",
       "      <th>county</th>\n",
       "      <th>househo_20</th>\n",
       "      <th>pop_2010</th>\n",
       "      <th>shape_st_1</th>\n",
       "      <th>shape_st_2</th>\n",
       "      <th>shape_star</th>\n",
       "      <th>shape_stle</th>\n",
       "      <th>geometry</th>\n",
       "      <th>Month</th>\n",
       "      <th>County</th>\n",
       "      <th>Type</th>\n",
       "      <th>Arrests</th>\n",
       "    </tr>\n",
       "  </thead>\n",
       "  <tbody>\n",
       "    <tr>\n",
       "      <th>0</th>\n",
       "      <td>1.0</td>\n",
       "      <td>Adams</td>\n",
       "      <td>154502.0</td>\n",
       "      <td>441603.0</td>\n",
       "      <td>3.064413e+09</td>\n",
       "      <td>392729.110497</td>\n",
       "      <td>0.0</td>\n",
       "      <td>0.0</td>\n",
       "      <td>POLYGON ((-103.70574 39.99991, -103.70569 39.9...</td>\n",
       "      <td>2013-01-01</td>\n",
       "      <td>Adams</td>\n",
       "      <td>DUI</td>\n",
       "      <td>301.0</td>\n",
       "    </tr>\n",
       "    <tr>\n",
       "      <th>1</th>\n",
       "      <td>1.0</td>\n",
       "      <td>Adams</td>\n",
       "      <td>154502.0</td>\n",
       "      <td>441603.0</td>\n",
       "      <td>3.064413e+09</td>\n",
       "      <td>392729.110497</td>\n",
       "      <td>0.0</td>\n",
       "      <td>0.0</td>\n",
       "      <td>POLYGON ((-103.70574 39.99991, -103.70569 39.9...</td>\n",
       "      <td>2013-01-01</td>\n",
       "      <td>Adams</td>\n",
       "      <td>Narcotics</td>\n",
       "      <td>232.0</td>\n",
       "    </tr>\n",
       "    <tr>\n",
       "      <th>2</th>\n",
       "      <td>1.0</td>\n",
       "      <td>Adams</td>\n",
       "      <td>154502.0</td>\n",
       "      <td>441603.0</td>\n",
       "      <td>3.064413e+09</td>\n",
       "      <td>392729.110497</td>\n",
       "      <td>0.0</td>\n",
       "      <td>0.0</td>\n",
       "      <td>POLYGON ((-103.70574 39.99991, -103.70569 39.9...</td>\n",
       "      <td>2013-02-01</td>\n",
       "      <td>Adams</td>\n",
       "      <td>DUI</td>\n",
       "      <td>369.0</td>\n",
       "    </tr>\n",
       "    <tr>\n",
       "      <th>3</th>\n",
       "      <td>1.0</td>\n",
       "      <td>Adams</td>\n",
       "      <td>154502.0</td>\n",
       "      <td>441603.0</td>\n",
       "      <td>3.064413e+09</td>\n",
       "      <td>392729.110497</td>\n",
       "      <td>0.0</td>\n",
       "      <td>0.0</td>\n",
       "      <td>POLYGON ((-103.70574 39.99991, -103.70569 39.9...</td>\n",
       "      <td>2013-02-01</td>\n",
       "      <td>Adams</td>\n",
       "      <td>Narcotics</td>\n",
       "      <td>221.0</td>\n",
       "    </tr>\n",
       "    <tr>\n",
       "      <th>4</th>\n",
       "      <td>1.0</td>\n",
       "      <td>Adams</td>\n",
       "      <td>154502.0</td>\n",
       "      <td>441603.0</td>\n",
       "      <td>3.064413e+09</td>\n",
       "      <td>392729.110497</td>\n",
       "      <td>0.0</td>\n",
       "      <td>0.0</td>\n",
       "      <td>POLYGON ((-103.70574 39.99991, -103.70569 39.9...</td>\n",
       "      <td>2013-03-01</td>\n",
       "      <td>Adams</td>\n",
       "      <td>DUI</td>\n",
       "      <td>446.0</td>\n",
       "    </tr>\n",
       "  </tbody>\n",
       "</table>\n",
       "</div>"
      ],
      "text/plain": [
       "   co_fips county  househo_20  pop_2010    shape_st_1     shape_st_2  \\\n",
       "0      1.0  Adams    154502.0  441603.0  3.064413e+09  392729.110497   \n",
       "1      1.0  Adams    154502.0  441603.0  3.064413e+09  392729.110497   \n",
       "2      1.0  Adams    154502.0  441603.0  3.064413e+09  392729.110497   \n",
       "3      1.0  Adams    154502.0  441603.0  3.064413e+09  392729.110497   \n",
       "4      1.0  Adams    154502.0  441603.0  3.064413e+09  392729.110497   \n",
       "\n",
       "   shape_star  shape_stle                                           geometry  \\\n",
       "0         0.0         0.0  POLYGON ((-103.70574 39.99991, -103.70569 39.9...   \n",
       "1         0.0         0.0  POLYGON ((-103.70574 39.99991, -103.70569 39.9...   \n",
       "2         0.0         0.0  POLYGON ((-103.70574 39.99991, -103.70569 39.9...   \n",
       "3         0.0         0.0  POLYGON ((-103.70574 39.99991, -103.70569 39.9...   \n",
       "4         0.0         0.0  POLYGON ((-103.70574 39.99991, -103.70569 39.9...   \n",
       "\n",
       "       Month County       Type  Arrests  \n",
       "0 2013-01-01  Adams        DUI    301.0  \n",
       "1 2013-01-01  Adams  Narcotics    232.0  \n",
       "2 2013-02-01  Adams        DUI    369.0  \n",
       "3 2013-02-01  Adams  Narcotics    221.0  \n",
       "4 2013-03-01  Adams        DUI    446.0  "
      ]
     },
     "execution_count": 72,
     "metadata": {},
     "output_type": "execute_result"
    }
   ],
   "source": [
    "crime_gdf.head()"
   ]
  },
  {
   "cell_type": "markdown",
   "metadata": {},
   "source": [
    "Filter the data to \"DUI\" sales in December 2014. Visualize the \"Arrests\" as a choropleth. Bonus points for using a basemap. Extra bonus points for using a [lognorm](https://matplotlib.org/3.1.0/gallery/userdemo/colormap_normalizations_lognorm.html) or [symlognorm](https://matplotlib.org/3.3.1/gallery/userdemo/colormap_normalizations_symlognorm.html#sphx-glr-gallery-userdemo-colormap-normalizations-symlognorm-py)."
   ]
  },
  {
   "cell_type": "code",
   "execution_count": 73,
   "metadata": {},
   "outputs": [],
   "source": [
    "_f = crime_gdf[crime_gdf[\"Month\"]==\"2014-12-01\"]\n",
    "crime_filtered_2014 = _f[_f[\"Type\"]==\"DUI\"]"
   ]
  },
  {
   "cell_type": "code",
   "execution_count": 74,
   "metadata": {},
   "outputs": [
    {
     "data": {
      "text/plain": [
       "<AxesSubplot:>"
      ]
     },
     "execution_count": 74,
     "metadata": {},
     "output_type": "execute_result"
    },
    {
     "data": {
      "image/png": "[encoded data removed]",
      "text/plain": [
       "<Figure size 576x360 with 2 Axes>"
      ]
     },
     "metadata": {
      "needs_background": "light"
     },
     "output_type": "display_data"
    }
   ],
   "source": [
    "f,ax = plt.subplots(figsize=(8,5))\n",
    "\n",
    "crime_filtered_2014.plot(column=\"Arrests\",\n",
    "                        edgecolor='k',\n",
    "                       lw=.5,\n",
    "                       cmap=\"cividis\",\n",
    "                       legend=True,\n",
    "                        ax=ax)"
   ]
  },
  {
   "cell_type": "markdown",
   "metadata": {},
   "source": [
    "Filter the data to \"DUI\" sales in December 2019. Visualize the \"Arrests\" as a choropleth. Bonus points for using a basemap. Extra bonus points for using a [lognorm](https://matplotlib.org/3.1.0/gallery/userdemo/colormap_normalizations_lognorm.html) or [symlognorm](https://matplotlib.org/3.3.1/gallery/userdemo/colormap_normalizations_symlognorm.html#sphx-glr-gallery-userdemo-colormap-normalizations-symlognorm-py)."
   ]
  },
  {
   "cell_type": "code",
   "execution_count": 75,
   "metadata": {},
   "outputs": [],
   "source": [
    "_f2019 = crime_gdf[crime_gdf[\"Month\"]==\"2019-12-01\"]\n",
    "crime_filtered_2019 = _f2019[_f2019[\"Type\"]==\"DUI\"]"
   ]
  },
  {
   "cell_type": "code",
   "execution_count": 93,
   "metadata": {},
   "outputs": [
    {
     "data": {
      "text/plain": [
       "Text(0.5, 1.0, '2014')"
      ]
     },
     "execution_count": 93,
     "metadata": {},
     "output_type": "execute_result"
    },
    {
     "data": {
      "image/png": "[encoded data removed]",
      "text/plain": [
       "<Figure size 576x360 with 2 Axes>"
      ]
     },
     "metadata": {
      "needs_background": "light"
     },
     "output_type": "display_data"
    },
    {
     "data": {
      "image/png": "[encoded data removed]",
      "text/plain": [
       "<Figure size 576x360 with 2 Axes>"
      ]
     },
     "metadata": {
      "needs_background": "light"
     },
     "output_type": "display_data"
    }
   ],
   "source": [
    "f,ax1 = plt.subplots(figsize=(8,5))\n",
    "\n",
    "crime_filtered_2019.plot(column=\"Arrests\",\n",
    "                        edgecolor='k',\n",
    "                       lw=.5,\n",
    "                         vmin=1,\n",
    "                         vmax=300,\n",
    "                       cmap=\"cividis\",\n",
    "                       legend=True,\n",
    "                        ax=ax1)\n",
    "plt.title(\"2019\")\n",
    "f,ax2 = plt.subplots(figsize=(8,5))\n",
    "\n",
    "crime_filtered_2014.plot(column=\"Arrests\",\n",
    "                          vmin=1,\n",
    "                         vmax=300,\n",
    "                        edgecolor='k',\n",
    "                       lw=.5,\n",
    "                       cmap=\"cividis\",\n",
    "                       legend=True,\n",
    "                        ax=ax2)\n",
    "plt.title(\"2014\")"
   ]
  },
  {
   "cell_type": "markdown",
   "metadata": {},
   "source": [
    "Interpet some changes you observe between the two maps."
   ]
  },
  {
   "cell_type": "markdown",
   "metadata": {},
   "source": [
    "Here we see that the general crime level of the counties decreased from 2014 to 2019. Most counties in the 2019 map appear to have a darker color than the 2014 map which represents a decrease in crime activity."
   ]
  },
  {
   "cell_type": "markdown",
   "metadata": {},
   "source": [
    "### Changes in crime for legalizing vs. non-legalizing counties\n",
    "\n",
    "From the December 2019 recreational GeoDataFrame you made, identify the unique counties that had reported recreational cannabis sales. Save this as `rec_counties_l`. Note that this is an inaccurate enumeration of counties with legalized cannabis salies "
   ]
  },
  {
   "cell_type": "code",
   "execution_count": 85,
   "metadata": {},
   "outputs": [],
   "source": [
    "rec_counties_1 = filtered_2019[\"county\"].unique()"
   ]
  },
  {
   "cell_type": "markdown",
   "metadata": {},
   "source": [
    "From the Colorado counties GeoDataFrame, identify all the unique counties in Colorado. Save this as `all_counties_l`."
   ]
  },
  {
   "cell_type": "code",
   "execution_count": 86,
   "metadata": {},
   "outputs": [],
   "source": [
    "all_counties_1 = co_counties_gdf[\"county\"].unique()"
   ]
  },
  {
   "cell_type": "markdown",
   "metadata": {},
   "source": [
    "Using the `rec_counties_l` and `co_counties_l`, do a set operation to identify all the counties with no reported recreational cannabis sales. Save this as `nonrec_counties_l`. "
   ]
  },
  {
   "cell_type": "code",
   "execution_count": 87,
   "metadata": {},
   "outputs": [
    {
     "data": {
      "text/plain": [
       "{'Alamosa',\n",
       " 'Baca',\n",
       " 'Broomfield',\n",
       " 'Cheyenne',\n",
       " 'Custer',\n",
       " 'Delta',\n",
       " 'Dolores',\n",
       " 'Douglas',\n",
       " 'Elbert',\n",
       " 'Fremont',\n",
       " 'Hinsdale',\n",
       " 'Jackson',\n",
       " 'Kiowa',\n",
       " 'Kit Carson',\n",
       " 'Lincoln',\n",
       " 'Logan',\n",
       " 'Mineral',\n",
       " 'Phillips',\n",
       " 'Prowers',\n",
       " 'Rio Blanco',\n",
       " 'Rio Grande',\n",
       " 'Teller',\n",
       " 'Washington',\n",
       " 'Yuma'}"
      ]
     },
     "execution_count": 87,
     "metadata": {},
     "output_type": "execute_result"
    }
   ],
   "source": [
    "nonrec_counties_1 = set(all_counties_1) - set(rec_counties_1)\n",
    "nonrec_counties_1"
   ]
  },
  {
   "cell_type": "markdown",
   "metadata": {},
   "source": [
    "The code below will compute the change in crime for 2019 versus 2013 for each county."
   ]
  },
  {
   "cell_type": "code",
   "execution_count": 88,
   "metadata": {},
   "outputs": [
    {
     "data": {
      "text/html": [
       "<div>\n",
       "<style scoped>\n",
       "    .dataframe tbody tr th:only-of-type {\n",
       "        vertical-align: middle;\n",
       "    }\n",
       "\n",
       "    .dataframe tbody tr th {\n",
       "        vertical-align: top;\n",
       "    }\n",
       "\n",
       "    .dataframe thead th {\n",
       "        text-align: right;\n",
       "    }\n",
       "</style>\n",
       "<table border=\"1\" class=\"dataframe\">\n",
       "  <thead>\n",
       "    <tr style=\"text-align: right;\">\n",
       "      <th></th>\n",
       "      <th>County</th>\n",
       "      <th>DUI</th>\n",
       "      <th>Narcotics</th>\n",
       "    </tr>\n",
       "  </thead>\n",
       "  <tbody>\n",
       "    <tr>\n",
       "      <th>0</th>\n",
       "      <td>Adams</td>\n",
       "      <td>-1747.0</td>\n",
       "      <td>109.0</td>\n",
       "    </tr>\n",
       "    <tr>\n",
       "      <th>1</th>\n",
       "      <td>Alamosa</td>\n",
       "      <td>38.0</td>\n",
       "      <td>79.0</td>\n",
       "    </tr>\n",
       "    <tr>\n",
       "      <th>2</th>\n",
       "      <td>Arapahoe</td>\n",
       "      <td>-543.0</td>\n",
       "      <td>-183.0</td>\n",
       "    </tr>\n",
       "    <tr>\n",
       "      <th>3</th>\n",
       "      <td>Archuleta</td>\n",
       "      <td>-15.0</td>\n",
       "      <td>9.0</td>\n",
       "    </tr>\n",
       "    <tr>\n",
       "      <th>4</th>\n",
       "      <td>Baca</td>\n",
       "      <td>-17.0</td>\n",
       "      <td>-3.0</td>\n",
       "    </tr>\n",
       "  </tbody>\n",
       "</table>\n",
       "</div>"
      ],
      "text/plain": [
       "      County     DUI  Narcotics\n",
       "0      Adams -1747.0      109.0\n",
       "1    Alamosa    38.0       79.0\n",
       "2   Arapahoe  -543.0     -183.0\n",
       "3  Archuleta   -15.0        9.0\n",
       "4       Baca   -17.0       -3.0"
      ]
     },
     "execution_count": 88,
     "metadata": {},
     "output_type": "execute_result"
    }
   ],
   "source": [
    "crime_pivot_df = pd.pivot_table(crime_df,index=['Month','County'],columns='Type',values='Arrests')\n",
    "crime_2019 = crime_pivot_df.loc['2019-01-01':'2019-12-01'].sum(level=1)\n",
    "crime_2013 = crime_pivot_df.loc['2013-01-01':'2013-12-01'].sum(level=1)\n",
    "crime_change_df = crime_2019 - crime_2013\n",
    "crime_change_df.reset_index(inplace=True)\n",
    "crime_change_df.columns.name = None\n",
    "crime_change_df.head()"
   ]
  },
  {
   "cell_type": "markdown",
   "metadata": {},
   "source": [
    "Make a new column in `crime_change_df` called \"Rec\" that is a Boolean value of whether that county had any reported recreational sales."
   ]
  },
  {
   "cell_type": "code",
   "execution_count": 89,
   "metadata": {},
   "outputs": [
    {
     "data": {
      "text/plain": [
       "0      True\n",
       "1     False\n",
       "2      True\n",
       "3      True\n",
       "4     False\n",
       "      ...  \n",
       "60     True\n",
       "61    False\n",
       "62    False\n",
       "63     True\n",
       "64    False\n",
       "Name: Rec, Length: 65, dtype: bool"
      ]
     },
     "execution_count": 89,
     "metadata": {},
     "output_type": "execute_result"
    }
   ],
   "source": [
    "crime_change_df[\"Rec\"] = ~crime_change_df[\"County\"].isin(nonrec_counties_1)\n",
    "crime_change_df[\"Rec\"]"
   ]
  },
  {
   "cell_type": "markdown",
   "metadata": {},
   "source": [
    "Make a seaborn `barplot` with \"Rec\" on the x-axis and \"DUI\" on the y-axis."
   ]
  },
  {
   "cell_type": "code",
   "execution_count": 90,
   "metadata": {},
   "outputs": [
    {
     "data": {
      "text/plain": [
       "<AxesSubplot:xlabel='Rec', ylabel='DUI'>"
      ]
     },
     "execution_count": 90,
     "metadata": {},
     "output_type": "execute_result"
    },
    {
     "data": {
      "image/png": "[encoded data removed]",
      "text/plain": [
       "<Figure size 432x288 with 1 Axes>"
      ]
     },
     "metadata": {
      "needs_background": "light"
     },
     "output_type": "display_data"
    }
   ],
   "source": [
    "sb.barplot(data=crime_change_df, x=\"Rec\",y=\"DUI\")"
   ]
  },
  {
   "cell_type": "markdown",
   "metadata": {},
   "source": [
    "Make a seaborn `barplot` with \"Rec\" on the x-axis and \"Narcotics\" on the y-axis."
   ]
  },
  {
   "cell_type": "code",
   "execution_count": 91,
   "metadata": {},
   "outputs": [
    {
     "data": {
      "text/plain": [
       "<AxesSubplot:xlabel='Rec', ylabel='Narcotics'>"
      ]
     },
     "execution_count": 91,
     "metadata": {},
     "output_type": "execute_result"
    },
    {
     "data": {
      "image/png": "[encoded data removed]",
      "text/plain": [
       "<Figure size 432x288 with 1 Axes>"
      ]
     },
     "metadata": {
      "needs_background": "light"
     },
     "output_type": "display_data"
    }
   ],
   "source": [
    "sb.barplot(data=crime_change_df, x=\"Rec\",y=\"Narcotics\")"
   ]
  },
  {
   "cell_type": "markdown",
   "metadata": {},
   "source": [
    "Here's a statistical test for whether the observed differences are statistically significant."
   ]
  },
  {
   "cell_type": "code",
   "execution_count": 92,
   "metadata": {},
   "outputs": [
    {
     "data": {
      "text/plain": [
       "Ttest_indResult(statistic=-1.5881060339389734, pvalue=0.12032032904879957)"
      ]
     },
     "execution_count": 92,
     "metadata": {},
     "output_type": "execute_result"
    }
   ],
   "source": [
    "from scipy import stats \n",
    "\n",
    "rec_dui_changes = crime_change_df.loc[crime_change_df['County'].isin(rec_counties_1),'DUI']\n",
    "nonrec_dui_changes = crime_change_df.loc[crime_change_df['County'].isin(nonrec_counties_1),'DUI']\n",
    "\n",
    "stats.ttest_ind(rec_dui_changes,nonrec_dui_changes,equal_var=False)"
   ]
  },
  {
   "cell_type": "code",
   "execution_count": 94,
   "metadata": {},
   "outputs": [
    {
     "data": {
      "text/plain": [
       "Ttest_indResult(statistic=1.7108143224033967, pvalue=0.09428298061837191)"
      ]
     },
     "execution_count": 94,
     "metadata": {},
     "output_type": "execute_result"
    }
   ],
   "source": [
    "rec_narcotics_changes = crime_change_df.loc[crime_change_df['County'].isin(rec_counties_1),'Narcotics']\n",
    "nonrec_narcotics_changes = crime_change_df.loc[crime_change_df['County'].isin(nonrec_counties_1),'Narcotics']\n",
    "\n",
    "stats.ttest_ind(rec_narcotics_changes,nonrec_narcotics_changes,equal_var=False)"
   ]
  },
  {
   "cell_type": "markdown",
   "metadata": {},
   "source": [
    "## Discuss\n",
    "Interpet the observed changes in crime statistics between 2013 and 2019 for legalizing and non-legalizing counties."
   ]
  },
  {
   "cell_type": "markdown",
   "metadata": {},
   "source": [
    "The previous barplots showed us that counties who legalized recreational marijuana saw a dramatic decrease in DUI's as opposed to counties who did not legalize it (these counties saw little difference in DUI's). However, in terms of Narcotics usage, the counties who legalized recreational marijuana saw a dramatic increase whereas the counties who did not saw a small increase. Therefore, our data points to obvious pros and cons of legalizing recreational marijuana. \n",
    "\n",
    "As shown with this data, it is important to remember that policy changes can have massive impacts on society in ways that we may not even recognize, an example being the decrease in DUI's when legalizing recreational marijuana. This is why it is so important for countrys, cities, and counties to use data to analyze other countrys, cities, and counties to determine what policy creates positive results for their constituents. Perhaps if data was a bigger part of policy making we may have a healthier governing system."
   ]
  },
  {
   "cell_type": "markdown",
   "metadata": {},
   "source": [
    "## Appendix\n",
    "\n",
    "Here's the steps I took to collect and clean up some of the data used for this module. **There's nothing you need to run in here to complete any part of this assignment**, I just share it in the interests of transparency and supporting motivated learners. \n",
    "\n",
    "Libraries only needed for the appendix."
   ]
  },
  {
   "cell_type": "code",
   "execution_count": null,
   "metadata": {},
   "outputs": [],
   "source": [
    "import requests, os, re, time\n",
    "from bs4 import BeautifulSoup\n",
    "from urllib.parse import quote, unquote\n",
    "from datetime import datetime\n",
    "from io import BytesIO"
   ]
  },
  {
   "cell_type": "markdown",
   "metadata": {},
   "source": [
    "### Sales reports\n",
    "The Colorado Department of Revenue's [Manrijuana Sales Reports](https://revenue.colorado.gov/data-and-reports/marijuana-data/marijuana-sales-reports) stores Excel files on a Google Drive.\n",
    "\n",
    "First, get all the links to each month's report by retrieving and parsing the markup from the website."
   ]
  },
  {
   "cell_type": "code",
   "execution_count": null,
   "metadata": {},
   "outputs": [],
   "source": [
    "# Get the raw HTML of the page\n",
    "raw = requests.get('https://revenue.colorado.gov/data-and-reports/marijuana-data/marijuana-sales-reports')\n",
    "\n",
    "# Turn into Soup\n",
    "soup = BeautifulSoup(raw.text)\n",
    "\n",
    "# Find the elements corresponding to the containers with the yearly data\n",
    "containers = soup.find_all('dl',{'class':'ckeditor-accordion'})"
   ]
  },
  {
   "cell_type": "markdown",
   "metadata": {},
   "source": [
    "Second, download all the Excel files. "
   ]
  },
  {
   "cell_type": "raw",
   "metadata": {},
   "source": [
    "excel_files = {}\n",
    "\n",
    "# Each container contains the links to the Excel and PDF files for each month\n",
    "for year in containers:\n",
    "    \n",
    "    # Get only the Excel URLs\n",
    "    _google_sheets_urls = [a['href'] for a in year.find_all('a') if a.text == 'Excel']\n",
    "    \n",
    "    # Loop through these URLs\n",
    "    for url in _google_sheets_urls:\n",
    "        \n",
    "        # Download each file. https://stackoverflow.com/a/56611995/1574687\n",
    "        # First extract the ID for each file\n",
    "        _id = re.findall('\\/file\\/d\\/([\\w-]+)\\/view\\?',url)[0]\n",
    "        \n",
    "        # Then pass it back to this reformatted export URL to download\n",
    "        _excel_df = pd.read_excel('https://drive.google.com/uc?export=download&id=' + _id)\n",
    "        \n",
    "        # Get the date from inside the data\n",
    "        _date = _excel_df.iloc[1,0].replace('Sales from ','')\n",
    "        _formatted_date = str(pd.Period(_date))\n",
    "        \n",
    "        # Save\n",
    "        excel_files[_formatted_date] = _excel_df\n",
    "        \n",
    "        time.sleep(1)"
   ]
  },
  {
   "cell_type": "markdown",
   "metadata": {},
   "source": [
    "Confirm we got them all."
   ]
  },
  {
   "cell_type": "code",
   "execution_count": null,
   "metadata": {},
   "outputs": [],
   "source": [
    "sorted(excel_files.keys())"
   ]
  },
  {
   "cell_type": "markdown",
   "metadata": {},
   "source": [
    "Define a function to parse the files."
   ]
  },
  {
   "cell_type": "code",
   "execution_count": null,
   "metadata": {},
   "outputs": [],
   "source": [
    "def clean_excel(_df):\n",
    "    \n",
    "    # Drop first 5 rows\n",
    "    _df = _df.drop(index=range(5)).reset_index(drop=True)\n",
    "    \n",
    "    # Drop empty column\n",
    "    _df = _df.dropna(how='all',axis=1)\n",
    "    \n",
    "    # Rename columns\n",
    "    _df.columns = ['Med County','Med Sales','Rec County','Rec Sales']\n",
    "    \n",
    "    # Find row for last medical and recreational sales\n",
    "    last_med = _df[_df['Med County'].str.contains('Sum of NR Counties').fillna(False)].first_valid_index() - 1\n",
    "    last_rec = _df[_df['Rec County'].str.contains('Sum of NR Counties').fillna(False)].first_valid_index() - 1\n",
    "\n",
    "    # Slice to only those values\n",
    "    med_sales = _df.loc[:last_med,['Med County','Med Sales']]\n",
    "    rec_sales = _df.loc[:last_rec,['Rec County','Rec Sales']]\n",
    "    \n",
    "    # Rename columns\n",
    "    med_sales.columns = ['County','Sales']\n",
    "    rec_sales.columns = ['County','Sales']\n",
    "\n",
    "    # Add type\n",
    "    med_sales['Type'] = 'Medical'\n",
    "    rec_sales['Type'] = 'Recreational'\n",
    "    \n",
    "    # Concatenate\n",
    "    combined_df = pd.concat([med_sales,rec_sales],ignore_index=True)\n",
    "    combined_df = combined_df.replace({'Sales':{'NR':np.nan}})\n",
    "\n",
    "    return combined_df"
   ]
  },
  {
   "cell_type": "markdown",
   "metadata": {},
   "source": [
    "Loop through files, parse out relevant data, and concatenate results together."
   ]
  },
  {
   "cell_type": "code",
   "execution_count": null,
   "metadata": {},
   "outputs": [],
   "source": [
    "cleaned_dict = {}\n",
    "\n",
    "# Apply the function to each month's spreadsheet\n",
    "for _month, _df in excel_files.items():\n",
    "    try:\n",
    "        cleaned_dict[_month] = clean_excel(_df)\n",
    "    except:\n",
    "        print(_month)\n",
    "        pass\n",
    "\n",
    "# Combine all the months of data together\n",
    "combined_df = pd.concat(cleaned_dict.values(),keys=cleaned_dict.keys())\n",
    "\n",
    "# Cleanup\n",
    "combined_df = combined_df.reset_index(0).reset_index(drop=True)\n",
    "combined_df = combined_df.rename(columns={'level_0':'Time'})\n",
    "\n",
    "combined_df = combined_df.sort_values(['Time','County','Type'])\n",
    "\n",
    "# Write to disk\n",
    "combined_df.to_csv('colorado_monthly_cannabis_sales.csv',index=False)\n",
    "\n",
    "print(combined_df.shape)\n",
    "combined_df.tail()"
   ]
  },
  {
   "cell_type": "markdown",
   "metadata": {},
   "source": [
    "Old method using files I manually downloaded."
   ]
  },
  {
   "cell_type": "code",
   "execution_count": null,
   "metadata": {},
   "outputs": [],
   "source": [
    "_dir = 'E:/Dropbox/Courses/2020 Fall - INFO 3401/Code and data/cannabis_sales/'\n",
    "files = [f for f in os.listdir(_dir) if '.xlsx' in f]\n",
    "\n",
    "data_dict = {}\n",
    "# filename_prefixes = [i.strftime('%m%y') for i in pd.period_range('2014-01','2020-10',freq='1M')]\n",
    "\n",
    "_dir = 'E:/Dropbox/Courses/2020 Fall - INFO 3401/Code and data/cannabis_sales/'\n",
    "files = [f for f in os.listdir(_dir) if '.xlsx' in f]\n",
    "\n",
    "for month,df in files:\n",
    "    try:\n",
    "        period = pd.Period(datetime.strptime(f.split('_')[0],'%m%y'),freq='1M')\n",
    "        data_dict[period] = pd.read_excel(_dir+f) #,skiprows=5)\n",
    "    except:\n",
    "        print(f)\n",
    "        pass\n",
    "\n",
    "print(len(data_dict))"
   ]
  },
  {
   "cell_type": "markdown",
   "metadata": {},
   "source": [
    "### Crime\n",
    "\n",
    "https://coloradocrimestats.state.co.us/public/View/"
   ]
  },
  {
   "cell_type": "code",
   "execution_count": null,
   "metadata": {},
   "outputs": [],
   "source": [
    "co_dui_1719 = pd.read_csv('DUI Arrests 2017-2019.csv',skiprows=3).dropna(how='all',axis=1)\n",
    "co_dui_1316 = pd.read_csv('DUI Arrests 2013-2016.csv',skiprows=3).dropna(how='all',axis=1)\n",
    "\n",
    "co_dui_df = pd.concat([co_dui_1316,co_dui_1719],ignore_index=True)\n",
    "co_dui_df['Incident Date'] = pd.to_datetime(co_dui_df['Incident Date'])\n",
    "co_dui_df = co_dui_df.drop(columns=['Arrest Offense for A and B Arrests'])\n",
    "\n",
    "co_dui_df = pd.pivot_table(data = co_dui_df,\n",
    "                           columns = 'Jurisdiction by Geography',\n",
    "                           index = 'Incident Date',\n",
    "                           values = 'Number of Arrestees'\n",
    "                          )\n",
    "\n",
    "co_dui_df = co_dui_df.fillna(0)\n",
    "\n",
    "co_dui_df = co_dui_df.groupby(pd.Grouper(freq='1M')).sum().stack().reset_index()\n",
    "co_dui_df.columns = ['Time','County','Arrests']\n",
    "co_dui_df['Time'] = co_dui_df['Time'].dt.to_period(freq='1M')\n",
    "\n",
    "_rename = {c:c.replace(' County','') for c in co_dui_df['County'].unique().tolist() if 'County' in c}\n",
    "co_dui_df = co_dui_df.replace({'County':_rename})\n",
    "\n",
    "# co_dui_df.to_csv('co_county_dui.csv')\n",
    "\n",
    "# co_dui_df.head()"
   ]
  },
  {
   "cell_type": "code",
   "execution_count": null,
   "metadata": {},
   "outputs": [],
   "source": [
    "co_narcotics_1719 = pd.read_csv('Narcotics Arrests 2017-2019.csv',skiprows=3).dropna(how='all',axis=1)\n",
    "co_narcotics_1316 = pd.read_csv('Narcotics Arrests 2013-2016.csv',skiprows=3).dropna(how='all',axis=1)\n",
    "\n",
    "co_narcotics_df = pd.concat([co_narcotics_1316,co_narcotics_1719],ignore_index=True)\n",
    "co_narcotics_df['Incident Date'] = pd.to_datetime(co_narcotics_df['Incident Date'])\n",
    "co_narcotics_df = co_narcotics_df.drop(columns=['Arrest Offense for A and B Arrests'])\n",
    "\n",
    "co_narcotics_df = pd.pivot_table(data = co_narcotics_df,\n",
    "                           columns = 'Jurisdiction by Geography',\n",
    "                           index = 'Incident Date',\n",
    "                           values = 'Number of Arrestees'\n",
    "                          )\n",
    "\n",
    "co_narcotics_df = co_narcotics_df.fillna(0)\n",
    "\n",
    "co_narcotics_df = co_narcotics_df.groupby(pd.Grouper(freq='1M')).sum().stack().reset_index()\n",
    "co_narcotics_df.columns = ['Time','County','Arrests']\n",
    "co_narcotics_df['Time'] = co_narcotics_df['Time'].dt.to_period(freq='1M')\n",
    "\n",
    "_rename = {c:c.replace(' County','') for c in co_narcotics_df['County'].unique().tolist() if 'County' in c}\n",
    "co_narcotics_df = co_narcotics_df.replace({'County':_rename})\n",
    "\n",
    "# co_narcotics_df.to_csv('co_county_narcotics.csv')\n",
    "\n",
    "# co_narcotics_df.head()"
   ]
  },
  {
   "cell_type": "code",
   "execution_count": null,
   "metadata": {},
   "outputs": [],
   "source": [
    "co_county_crime_df = pd.concat([co_dui_df,co_narcotics_df],\n",
    "                               keys=['DUI','Narcotics'],\n",
    "                               names=['Type']\n",
    "                              ).reset_index(0)\n",
    "co_county_crime_df = co_county_crime_df[['Time','County','Type','Arrests']]\n",
    "\n",
    "co_county_crime_df = co_county_crime_df.sort_values(['Time','County','Type']).reset_index(drop=True)\n",
    "\n",
    "co_county_crime_df.to_csv('co_county_crime.csv',index=False)\n",
    "\n",
    "co_county_crime_df.head()"
   ]
  },
  {
   "cell_type": "code",
   "execution_count": null,
   "metadata": {},
   "outputs": [],
   "source": [
    "co_county_crime_df = pd.merge(left = co_dui_df,\n",
    "                              right = co_narcotics_df,\n",
    "                              how = 'outer',\n",
    "                              left_on = ['Time','County'],\n",
    "                              right_on = ['Time','County']\n",
    "                             )\n",
    "\n",
    "co_county_crime_df.to_csv('co_county_crime.csv',index=False)\n",
    "\n",
    "co_county_crime_df.head()"
   ]
  }
 ],
 "metadata": {
  "kernelspec": {
   "display_name": "Python 3",
   "language": "python",
   "name": "python3"
  },
  "language_info": {
   "codemirror_mode": {
    "name": "ipython",
    "version": 3
   },
   "file_extension": ".py",
   "mimetype": "text/x-python",
   "name": "python",
   "nbconvert_exporter": "python",
   "pygments_lexer": "ipython3",
   "version": "3.7.7"
  }
 },
 "nbformat": 4,
 "nbformat_minor": 4
}
